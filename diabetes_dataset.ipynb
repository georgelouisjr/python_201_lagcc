{
 "cells": [
  {
   "cell_type": "code",
   "execution_count": 1,
   "id": "02c00524-ab96-4849-b643-e21a566b0914",
   "metadata": {},
   "outputs": [],
   "source": [
    "import pandas as pd\n",
    "import matplotlib.pyplot as plt\n",
    "%matplotlib inline\n",
    "import numpy as np\n",
    "import seaborn as sns"
   ]
  },
  {
   "cell_type": "code",
   "execution_count": 2,
   "id": "d10d7b78-68a0-4671-bc45-9642b72647e8",
   "metadata": {},
   "outputs": [],
   "source": [
    "df = pd.read_csv('https://raw.githubusercontent.com/niteen11/DataAnalyticsAcademy/master/Python/dataset_diabetes/diabetic_data.csv')"
   ]
  },
  {
   "cell_type": "code",
   "execution_count": 3,
   "id": "af5a5b85-ccad-47ce-ba4a-7cbb0469b53a",
   "metadata": {},
   "outputs": [
    {
     "data": {
      "text/html": [
       "<div>\n",
       "<style scoped>\n",
       "    .dataframe tbody tr th:only-of-type {\n",
       "        vertical-align: middle;\n",
       "    }\n",
       "\n",
       "    .dataframe tbody tr th {\n",
       "        vertical-align: top;\n",
       "    }\n",
       "\n",
       "    .dataframe thead th {\n",
       "        text-align: right;\n",
       "    }\n",
       "</style>\n",
       "<table border=\"1\" class=\"dataframe\">\n",
       "  <thead>\n",
       "    <tr style=\"text-align: right;\">\n",
       "      <th></th>\n",
       "      <th>encounter_id</th>\n",
       "      <th>patient_nbr</th>\n",
       "      <th>race</th>\n",
       "      <th>gender</th>\n",
       "      <th>age</th>\n",
       "      <th>weight</th>\n",
       "      <th>admission_type_id</th>\n",
       "      <th>discharge_disposition_id</th>\n",
       "      <th>admission_source_id</th>\n",
       "      <th>time_in_hospital</th>\n",
       "      <th>...</th>\n",
       "      <th>citoglipton</th>\n",
       "      <th>insulin</th>\n",
       "      <th>glyburide-metformin</th>\n",
       "      <th>glipizide-metformin</th>\n",
       "      <th>glimepiride-pioglitazone</th>\n",
       "      <th>metformin-rosiglitazone</th>\n",
       "      <th>metformin-pioglitazone</th>\n",
       "      <th>change</th>\n",
       "      <th>diabetesMed</th>\n",
       "      <th>readmitted</th>\n",
       "    </tr>\n",
       "  </thead>\n",
       "  <tbody>\n",
       "    <tr>\n",
       "      <th>0</th>\n",
       "      <td>2278392</td>\n",
       "      <td>8222157</td>\n",
       "      <td>Caucasian</td>\n",
       "      <td>Female</td>\n",
       "      <td>[0-10)</td>\n",
       "      <td>?</td>\n",
       "      <td>6</td>\n",
       "      <td>25</td>\n",
       "      <td>1</td>\n",
       "      <td>1</td>\n",
       "      <td>...</td>\n",
       "      <td>No</td>\n",
       "      <td>No</td>\n",
       "      <td>No</td>\n",
       "      <td>No</td>\n",
       "      <td>No</td>\n",
       "      <td>No</td>\n",
       "      <td>No</td>\n",
       "      <td>No</td>\n",
       "      <td>No</td>\n",
       "      <td>NO</td>\n",
       "    </tr>\n",
       "    <tr>\n",
       "      <th>1</th>\n",
       "      <td>149190</td>\n",
       "      <td>55629189</td>\n",
       "      <td>Caucasian</td>\n",
       "      <td>Female</td>\n",
       "      <td>[10-20)</td>\n",
       "      <td>?</td>\n",
       "      <td>1</td>\n",
       "      <td>1</td>\n",
       "      <td>7</td>\n",
       "      <td>3</td>\n",
       "      <td>...</td>\n",
       "      <td>No</td>\n",
       "      <td>Up</td>\n",
       "      <td>No</td>\n",
       "      <td>No</td>\n",
       "      <td>No</td>\n",
       "      <td>No</td>\n",
       "      <td>No</td>\n",
       "      <td>Ch</td>\n",
       "      <td>Yes</td>\n",
       "      <td>&gt;30</td>\n",
       "    </tr>\n",
       "    <tr>\n",
       "      <th>2</th>\n",
       "      <td>64410</td>\n",
       "      <td>86047875</td>\n",
       "      <td>AfricanAmerican</td>\n",
       "      <td>Female</td>\n",
       "      <td>[20-30)</td>\n",
       "      <td>?</td>\n",
       "      <td>1</td>\n",
       "      <td>1</td>\n",
       "      <td>7</td>\n",
       "      <td>2</td>\n",
       "      <td>...</td>\n",
       "      <td>No</td>\n",
       "      <td>No</td>\n",
       "      <td>No</td>\n",
       "      <td>No</td>\n",
       "      <td>No</td>\n",
       "      <td>No</td>\n",
       "      <td>No</td>\n",
       "      <td>No</td>\n",
       "      <td>Yes</td>\n",
       "      <td>NO</td>\n",
       "    </tr>\n",
       "    <tr>\n",
       "      <th>3</th>\n",
       "      <td>500364</td>\n",
       "      <td>82442376</td>\n",
       "      <td>Caucasian</td>\n",
       "      <td>Male</td>\n",
       "      <td>[30-40)</td>\n",
       "      <td>?</td>\n",
       "      <td>1</td>\n",
       "      <td>1</td>\n",
       "      <td>7</td>\n",
       "      <td>2</td>\n",
       "      <td>...</td>\n",
       "      <td>No</td>\n",
       "      <td>Up</td>\n",
       "      <td>No</td>\n",
       "      <td>No</td>\n",
       "      <td>No</td>\n",
       "      <td>No</td>\n",
       "      <td>No</td>\n",
       "      <td>Ch</td>\n",
       "      <td>Yes</td>\n",
       "      <td>NO</td>\n",
       "    </tr>\n",
       "    <tr>\n",
       "      <th>4</th>\n",
       "      <td>16680</td>\n",
       "      <td>42519267</td>\n",
       "      <td>Caucasian</td>\n",
       "      <td>Male</td>\n",
       "      <td>[40-50)</td>\n",
       "      <td>?</td>\n",
       "      <td>1</td>\n",
       "      <td>1</td>\n",
       "      <td>7</td>\n",
       "      <td>1</td>\n",
       "      <td>...</td>\n",
       "      <td>No</td>\n",
       "      <td>Steady</td>\n",
       "      <td>No</td>\n",
       "      <td>No</td>\n",
       "      <td>No</td>\n",
       "      <td>No</td>\n",
       "      <td>No</td>\n",
       "      <td>Ch</td>\n",
       "      <td>Yes</td>\n",
       "      <td>NO</td>\n",
       "    </tr>\n",
       "  </tbody>\n",
       "</table>\n",
       "<p>5 rows × 50 columns</p>\n",
       "</div>"
      ],
      "text/plain": [
       "   encounter_id  patient_nbr             race  gender      age weight  \\\n",
       "0       2278392      8222157        Caucasian  Female   [0-10)      ?   \n",
       "1        149190     55629189        Caucasian  Female  [10-20)      ?   \n",
       "2         64410     86047875  AfricanAmerican  Female  [20-30)      ?   \n",
       "3        500364     82442376        Caucasian    Male  [30-40)      ?   \n",
       "4         16680     42519267        Caucasian    Male  [40-50)      ?   \n",
       "\n",
       "   admission_type_id  discharge_disposition_id  admission_source_id  \\\n",
       "0                  6                        25                    1   \n",
       "1                  1                         1                    7   \n",
       "2                  1                         1                    7   \n",
       "3                  1                         1                    7   \n",
       "4                  1                         1                    7   \n",
       "\n",
       "   time_in_hospital  ... citoglipton insulin  glyburide-metformin  \\\n",
       "0                 1  ...          No      No                   No   \n",
       "1                 3  ...          No      Up                   No   \n",
       "2                 2  ...          No      No                   No   \n",
       "3                 2  ...          No      Up                   No   \n",
       "4                 1  ...          No  Steady                   No   \n",
       "\n",
       "   glipizide-metformin  glimepiride-pioglitazone  metformin-rosiglitazone  \\\n",
       "0                   No                        No                       No   \n",
       "1                   No                        No                       No   \n",
       "2                   No                        No                       No   \n",
       "3                   No                        No                       No   \n",
       "4                   No                        No                       No   \n",
       "\n",
       "   metformin-pioglitazone  change diabetesMed readmitted  \n",
       "0                      No      No          No         NO  \n",
       "1                      No      Ch         Yes        >30  \n",
       "2                      No      No         Yes         NO  \n",
       "3                      No      Ch         Yes         NO  \n",
       "4                      No      Ch         Yes         NO  \n",
       "\n",
       "[5 rows x 50 columns]"
      ]
     },
     "execution_count": 3,
     "metadata": {},
     "output_type": "execute_result"
    }
   ],
   "source": [
    "df.head()"
   ]
  },
  {
   "cell_type": "code",
   "execution_count": 4,
   "id": "533b2d31-264b-4825-a5ad-6d6d9159737b",
   "metadata": {},
   "outputs": [
    {
     "name": "stdout",
     "output_type": "stream",
     "text": [
      "<class 'pandas.core.frame.DataFrame'>\n",
      "RangeIndex: 101766 entries, 0 to 101765\n",
      "Data columns (total 50 columns):\n",
      " #   Column                    Non-Null Count   Dtype \n",
      "---  ------                    --------------   ----- \n",
      " 0   encounter_id              101766 non-null  int64 \n",
      " 1   patient_nbr               101766 non-null  int64 \n",
      " 2   race                      101766 non-null  object\n",
      " 3   gender                    101766 non-null  object\n",
      " 4   age                       101766 non-null  object\n",
      " 5   weight                    101766 non-null  object\n",
      " 6   admission_type_id         101766 non-null  int64 \n",
      " 7   discharge_disposition_id  101766 non-null  int64 \n",
      " 8   admission_source_id       101766 non-null  int64 \n",
      " 9   time_in_hospital          101766 non-null  int64 \n",
      " 10  payer_code                101766 non-null  object\n",
      " 11  medical_specialty         101766 non-null  object\n",
      " 12  num_lab_procedures        101766 non-null  int64 \n",
      " 13  num_procedures            101766 non-null  int64 \n",
      " 14  num_medications           101766 non-null  int64 \n",
      " 15  number_outpatient         101766 non-null  int64 \n",
      " 16  number_emergency          101766 non-null  int64 \n",
      " 17  number_inpatient          101766 non-null  int64 \n",
      " 18  diag_1                    101766 non-null  object\n",
      " 19  diag_2                    101766 non-null  object\n",
      " 20  diag_3                    101766 non-null  object\n",
      " 21  number_diagnoses          101766 non-null  int64 \n",
      " 22  max_glu_serum             5346 non-null    object\n",
      " 23  A1Cresult                 17018 non-null   object\n",
      " 24  metformin                 101766 non-null  object\n",
      " 25  repaglinide               101766 non-null  object\n",
      " 26  nateglinide               101766 non-null  object\n",
      " 27  chlorpropamide            101766 non-null  object\n",
      " 28  glimepiride               101766 non-null  object\n",
      " 29  acetohexamide             101766 non-null  object\n",
      " 30  glipizide                 101766 non-null  object\n",
      " 31  glyburide                 101766 non-null  object\n",
      " 32  tolbutamide               101766 non-null  object\n",
      " 33  pioglitazone              101766 non-null  object\n",
      " 34  rosiglitazone             101766 non-null  object\n",
      " 35  acarbose                  101766 non-null  object\n",
      " 36  miglitol                  101766 non-null  object\n",
      " 37  troglitazone              101766 non-null  object\n",
      " 38  tolazamide                101766 non-null  object\n",
      " 39  examide                   101766 non-null  object\n",
      " 40  citoglipton               101766 non-null  object\n",
      " 41  insulin                   101766 non-null  object\n",
      " 42  glyburide-metformin       101766 non-null  object\n",
      " 43  glipizide-metformin       101766 non-null  object\n",
      " 44  glimepiride-pioglitazone  101766 non-null  object\n",
      " 45  metformin-rosiglitazone   101766 non-null  object\n",
      " 46  metformin-pioglitazone    101766 non-null  object\n",
      " 47  change                    101766 non-null  object\n",
      " 48  diabetesMed               101766 non-null  object\n",
      " 49  readmitted                101766 non-null  object\n",
      "dtypes: int64(13), object(37)\n",
      "memory usage: 38.8+ MB\n"
     ]
    }
   ],
   "source": [
    "df.info()"
   ]
  },
  {
   "cell_type": "code",
   "execution_count": 5,
   "id": "5d0f481f-af16-4f20-b992-efbbdca38d4d",
   "metadata": {},
   "outputs": [],
   "source": [
    "df.columns = (\n",
    "    df.columns\n",
    "    .str.replace(\"-\", \"_\")\n",
    ")"
   ]
  },
  {
   "cell_type": "code",
   "execution_count": 6,
   "id": "77e0ee8f-7241-4781-b0f5-f86ca3f4edca",
   "metadata": {},
   "outputs": [
    {
     "name": "stdout",
     "output_type": "stream",
     "text": [
      "encounter_id                    0\n",
      "patient_nbr                     0\n",
      "race                            0\n",
      "gender                          0\n",
      "age                             0\n",
      "weight                          0\n",
      "admission_type_id               0\n",
      "discharge_disposition_id        0\n",
      "admission_source_id             0\n",
      "time_in_hospital                0\n",
      "payer_code                      0\n",
      "medical_specialty               0\n",
      "num_lab_procedures              0\n",
      "num_procedures                  0\n",
      "num_medications                 0\n",
      "number_outpatient               0\n",
      "number_emergency                0\n",
      "number_inpatient                0\n",
      "diag_1                          0\n",
      "diag_2                          0\n",
      "diag_3                          0\n",
      "number_diagnoses                0\n",
      "max_glu_serum               96420\n",
      "A1Cresult                   84748\n",
      "metformin                       0\n",
      "repaglinide                     0\n",
      "nateglinide                     0\n",
      "chlorpropamide                  0\n",
      "glimepiride                     0\n",
      "acetohexamide                   0\n",
      "glipizide                       0\n",
      "glyburide                       0\n",
      "tolbutamide                     0\n",
      "pioglitazone                    0\n",
      "rosiglitazone                   0\n",
      "acarbose                        0\n",
      "miglitol                        0\n",
      "troglitazone                    0\n",
      "tolazamide                      0\n",
      "examide                         0\n",
      "citoglipton                     0\n",
      "insulin                         0\n",
      "glyburide_metformin             0\n",
      "glipizide_metformin             0\n",
      "glimepiride_pioglitazone        0\n",
      "metformin_rosiglitazone         0\n",
      "metformin_pioglitazone          0\n",
      "change                          0\n",
      "diabetesMed                     0\n",
      "readmitted                      0\n",
      "dtype: int64\n"
     ]
    }
   ],
   "source": [
    "print(df.isna().sum())"
   ]
  },
  {
   "cell_type": "code",
   "execution_count": 7,
   "id": "ec899673-1490-42e6-b641-3d9c583b45b6",
   "metadata": {},
   "outputs": [
    {
     "name": "stdout",
     "output_type": "stream",
     "text": [
      "['Female' 'Male' 'Unknown/Invalid']\n"
     ]
    }
   ],
   "source": [
    "print(df['gender'].unique())"
   ]
  },
  {
   "cell_type": "code",
   "execution_count": 8,
   "id": "92faaaad-31ee-42c0-91ed-a3695e562760",
   "metadata": {},
   "outputs": [],
   "source": [
    "inv_gender_count = (df['gender'] == 'unknown/invalid').sum()"
   ]
  },
  {
   "cell_type": "code",
   "execution_count": 9,
   "id": "60ac86e3-8d07-4bb0-88c7-a034a8fdde19",
   "metadata": {},
   "outputs": [
    {
     "data": {
      "text/plain": [
       "0"
      ]
     },
     "execution_count": 9,
     "metadata": {},
     "output_type": "execute_result"
    }
   ],
   "source": [
    "inv_gender_count"
   ]
  },
  {
   "cell_type": "code",
   "execution_count": 10,
   "id": "b6969258-1fe3-49a8-8681-e7f1ab02c35b",
   "metadata": {},
   "outputs": [],
   "source": [
    "# != excludes certain rows based on column values.\n",
    "df = df[df['gender'] != 'Unknown/Invalid']"
   ]
  },
  {
   "cell_type": "code",
   "execution_count": 11,
   "id": "8e24ef7d-6409-42cc-a83c-1faa8445eef8",
   "metadata": {},
   "outputs": [
    {
     "name": "stdout",
     "output_type": "stream",
     "text": [
      "['Female' 'Male']\n"
     ]
    }
   ],
   "source": [
    "print(df['gender'].unique())"
   ]
  },
  {
   "cell_type": "code",
   "execution_count": 12,
   "id": "c62cb9d3-2f31-4572-98be-9ee6475abbbd",
   "metadata": {},
   "outputs": [
    {
     "name": "stdout",
     "output_type": "stream",
     "text": [
      "['Caucasian' 'AfricanAmerican' '?' 'Other' 'Asian' 'Hispanic']\n"
     ]
    }
   ],
   "source": [
    "print(df['race'].unique())"
   ]
  },
  {
   "cell_type": "code",
   "execution_count": 13,
   "id": "1c277580-2842-4a47-a5ff-f50410d26103",
   "metadata": {},
   "outputs": [],
   "source": [
    "inv_race_count = (df['race'] == '?').sum()"
   ]
  },
  {
   "cell_type": "code",
   "execution_count": 14,
   "id": "42ed2d97-c0bf-491e-91ba-0bdeaaf2f27d",
   "metadata": {},
   "outputs": [
    {
     "data": {
      "text/plain": [
       "2271"
      ]
     },
     "execution_count": 14,
     "metadata": {},
     "output_type": "execute_result"
    }
   ],
   "source": [
    "inv_race_count"
   ]
  },
  {
   "cell_type": "code",
   "execution_count": 15,
   "id": "34cbde48-c1a8-4dfc-b082-276e25698afb",
   "metadata": {},
   "outputs": [],
   "source": [
    "# != like above this operator is used to filter out rows in the df where the race column has the value '?'.\n",
    "df = df[df['race'] != '?']"
   ]
  },
  {
   "cell_type": "code",
   "execution_count": 16,
   "id": "46904676-0f12-4629-b911-254c05a40d1a",
   "metadata": {},
   "outputs": [],
   "source": [
    "df['race'] = df['race'].replace({'AfricanAmerican': 'African American'})"
   ]
  },
  {
   "cell_type": "code",
   "execution_count": 17,
   "id": "262f008a-d5e2-4438-be70-5186aff34d32",
   "metadata": {},
   "outputs": [
    {
     "name": "stdout",
     "output_type": "stream",
     "text": [
      "['Caucasian' 'African American' 'Other' 'Asian' 'Hispanic']\n"
     ]
    }
   ],
   "source": [
    "print(df['race'].unique())"
   ]
  },
  {
   "cell_type": "code",
   "execution_count": 18,
   "id": "feaf1369-5b6b-4550-afce-11e72f7ea439",
   "metadata": {},
   "outputs": [
    {
     "name": "stdout",
     "output_type": "stream",
     "text": [
      "['[0-10)' '[10-20)' '[20-30)' '[30-40)' '[40-50)' '[50-60)' '[60-70)'\n",
      " '[70-80)' '[80-90)' '[90-100)']\n"
     ]
    }
   ],
   "source": [
    "print(df['age'].unique())"
   ]
  },
  {
   "cell_type": "code",
   "execution_count": 19,
   "id": "d6f919d5-2499-4588-9ce3-ba25a2862251",
   "metadata": {},
   "outputs": [],
   "source": [
    "# r'...' This ensures that special characters like \\ are not interpreted by Python\n",
    "# itself but are passed as regular characters\n",
    "# '' replaces th () and [] with an empty string thus removing them\n",
    "# regex=True means str.replace() treats is a regular expression.\n",
    "\n",
    "df['age'] = df['age'].str.replace(r'[\\[\\)\\)]', '', regex=True)"
   ]
  },
  {
   "cell_type": "code",
   "execution_count": 20,
   "id": "8ca6c01b-5fd4-40a1-b629-07201d01de95",
   "metadata": {},
   "outputs": [
    {
     "name": "stdout",
     "output_type": "stream",
     "text": [
      "['0-10' '10-20' '20-30' '30-40' '40-50' '50-60' '60-70' '70-80' '80-90'\n",
      " '90-100']\n"
     ]
    }
   ],
   "source": [
    "print(df['age'].unique())"
   ]
  },
  {
   "cell_type": "code",
   "execution_count": 21,
   "id": "1a016af0-1e1b-4bc9-81c4-9f5d60e3925b",
   "metadata": {},
   "outputs": [
    {
     "data": {
      "image/png": "[encoded data removed]",
      "text/plain": [
       "<Figure size 640x480 with 1 Axes>"
      ]
     },
     "metadata": {},
     "output_type": "display_data"
    },
    {
     "data": {
      "image/png": "[encoded data removed]",
      "text/plain": [
       "<Figure size 640x480 with 1 Axes>"
      ]
     },
     "metadata": {},
     "output_type": "display_data"
    },
    {
     "data": {
      "image/png": "[encoded data removed]",
      "text/plain": [
       "<Figure size 640x480 with 1 Axes>"
      ]
     },
     "metadata": {},
     "output_type": "display_data"
    }
   ],
   "source": [
    "# Gender distribution\n",
    "sns.countplot(x='gender', data=df)\n",
    "plt.title('Gender Distribution')\n",
    "plt.xlabel('')\n",
    "plt.ylabel('')\n",
    "plt.show()\n",
    "\n",
    "# Race distribution\n",
    "sns.countplot(x='race', data=df)\n",
    "plt.title('Race Distribution')\n",
    "plt.xlabel('')\n",
    "plt.ylabel('')\n",
    "plt.show()\n",
    "\n",
    "# Age group distribution\n",
    "sns.countplot(x='age', data=df)\n",
    "plt.title('Age Group Distribution')\n",
    "plt.xlabel('')\n",
    "plt.ylabel('')\n",
    "plt.show()"
   ]
  },
  {
   "cell_type": "code",
   "execution_count": 22,
   "id": "e19d757d-74eb-4051-9274-c7cd938957dc",
   "metadata": {},
   "outputs": [
    {
     "data": {
      "image/png": "[encoded data removed]",
      "text/plain": [
       "<Figure size 640x480 with 1 Axes>"
      ]
     },
     "metadata": {},
     "output_type": "display_data"
    }
   ],
   "source": [
    "sns.countplot(x='race', hue='gender', data=df)\n",
    "plt.title('Gender Distribution by Race')\n",
    "plt.xlabel('')\n",
    "plt.ylabel('')\n",
    "plt.show()"
   ]
  },
  {
   "cell_type": "code",
   "execution_count": 23,
   "id": "1e6e6d5e-7bbc-4748-aa5c-77a0f5d9e504",
   "metadata": {},
   "outputs": [
    {
     "data": {
      "image/png": "[encoded data removed]",
      "text/plain": [
       "<Figure size 1200x600 with 1 Axes>"
      ]
     },
     "metadata": {},
     "output_type": "display_data"
    }
   ],
   "source": [
    "plt.figure(figsize=(12,6))\n",
    "# When you use dodge=True, it separates the data by hue and places them next to each other\n",
    "sns.countplot(x='race', hue='age', data=df, dodge=True, palette='tab10') \n",
    "plt.title('Age and Race Total Patients')\n",
    "plt.xlabel('')\n",
    "plt.ylabel('')\n",
    "plt.xticks(rotation=45)\n",
    "plt.legend(title='Age Group')\n",
    "plt.show()"
   ]
  },
  {
   "cell_type": "code",
   "execution_count": 24,
   "id": "13727ef7-35a0-4421-9eaa-35fd57f1fd0b",
   "metadata": {},
   "outputs": [],
   "source": [
    "# .shape[0] gives the total number of rows in the column.\n",
    "total_glu = df['max_glu_serum'].shape[0]"
   ]
  },
  {
   "cell_type": "code",
   "execution_count": 25,
   "id": "7c4fa397-1c3d-4b80-845d-6aa968f66083",
   "metadata": {},
   "outputs": [
    {
     "data": {
      "text/plain": [
       "99492"
      ]
     },
     "execution_count": 25,
     "metadata": {},
     "output_type": "execute_result"
    }
   ],
   "source": [
    "total_glu"
   ]
  },
  {
   "cell_type": "code",
   "execution_count": 26,
   "id": "8ffe6cdc-4dc5-4d6f-808e-220befea03fe",
   "metadata": {},
   "outputs": [],
   "source": [
    "# This counts the number of NaN values in the max_glu_serum column. \n",
    "nan_glu = df['max_glu_serum'].isna().sum()"
   ]
  },
  {
   "cell_type": "code",
   "execution_count": 27,
   "id": "0fd3518a-eb28-4410-96af-ce1961ed62a2",
   "metadata": {},
   "outputs": [
    {
     "data": {
      "text/plain": [
       "94202"
      ]
     },
     "execution_count": 27,
     "metadata": {},
     "output_type": "execute_result"
    }
   ],
   "source": [
    "nan_glu"
   ]
  },
  {
   "cell_type": "code",
   "execution_count": 28,
   "id": "88d97809-4fd2-4c32-b4a8-ece69191ff82",
   "metadata": {},
   "outputs": [],
   "source": [
    "# Calculating the percentage of NaN values\n",
    "nan_glu_perc = (nan_glu / total_glu) * 100"
   ]
  },
  {
   "cell_type": "code",
   "execution_count": 29,
   "id": "ca8ca1f7-042a-498f-b19b-fa0b6a79ed52",
   "metadata": {},
   "outputs": [
    {
     "data": {
      "text/plain": [
       "94.68298958710248"
      ]
     },
     "execution_count": 29,
     "metadata": {},
     "output_type": "execute_result"
    }
   ],
   "source": [
    "# Percentage of Nan is too high to use the max_glu_serum metric to compare values\n",
    "nan_glu_perc"
   ]
  },
  {
   "cell_type": "code",
   "execution_count": 30,
   "id": "1376229a-066b-43c6-b0a4-9ee490afab54",
   "metadata": {
    "scrolled": true
   },
   "outputs": [
    {
     "name": "stdout",
     "output_type": "stream",
     "text": [
      "['No' 'Yes']\n"
     ]
    }
   ],
   "source": [
    "print(df['diabetesMed'].unique())"
   ]
  },
  {
   "cell_type": "code",
   "execution_count": 31,
   "id": "83f8f511-66da-45f3-90ef-f8f5ae83c52e",
   "metadata": {},
   "outputs": [
    {
     "name": "stdout",
     "output_type": "stream",
     "text": [
      "[nan '>7' '>8' 'Norm']\n"
     ]
    }
   ],
   "source": [
    "print(df['A1Cresult'].unique())"
   ]
  },
  {
   "cell_type": "code",
   "execution_count": 32,
   "id": "5fcdd665-0c84-486a-913e-2203ee197370",
   "metadata": {},
   "outputs": [],
   "source": [
    "total_a1c = df['A1Cresult'].shape[0]"
   ]
  },
  {
   "cell_type": "code",
   "execution_count": 33,
   "id": "8a001333-726b-4eb7-acb8-1c7d1a309781",
   "metadata": {},
   "outputs": [],
   "source": [
    "nan_a1c = df['A1Cresult'].isna().sum()"
   ]
  },
  {
   "cell_type": "code",
   "execution_count": 34,
   "id": "70eb0918-9b08-46d6-bd17-517deea8fc52",
   "metadata": {},
   "outputs": [
    {
     "data": {
      "text/plain": [
       "82896"
      ]
     },
     "execution_count": 34,
     "metadata": {},
     "output_type": "execute_result"
    }
   ],
   "source": [
    "nan_a1c"
   ]
  },
  {
   "cell_type": "code",
   "execution_count": 35,
   "id": "c7c68f83-9f2d-4153-8bbe-87b4c16f3b2a",
   "metadata": {},
   "outputs": [],
   "source": [
    "nan_a1c_perc = (nan_a1c / total_glu) * 100"
   ]
  },
  {
   "cell_type": "code",
   "execution_count": 36,
   "id": "59f798da-3d5f-4fba-81b9-8ccfc7576da4",
   "metadata": {},
   "outputs": [
    {
     "data": {
      "text/plain": [
       "83.31926185019901"
      ]
     },
     "execution_count": 36,
     "metadata": {},
     "output_type": "execute_result"
    }
   ],
   "source": [
    "# Percentage of Nan is too high to use the A1Cresult metric to compare values\n",
    "nan_a1c_perc"
   ]
  },
  {
   "cell_type": "code",
   "execution_count": 37,
   "id": "897fd71a-c433-4549-9f56-1572899d79d8",
   "metadata": {},
   "outputs": [],
   "source": [
    "nan_age = df['age'].isna().sum()"
   ]
  },
  {
   "cell_type": "code",
   "execution_count": 38,
   "id": "6aced071-2f8b-4ee0-9338-a07adeef4eb0",
   "metadata": {},
   "outputs": [
    {
     "data": {
      "text/plain": [
       "0"
      ]
     },
     "execution_count": 38,
     "metadata": {},
     "output_type": "execute_result"
    }
   ],
   "source": [
    "nan_age"
   ]
  },
  {
   "cell_type": "code",
   "execution_count": 39,
   "id": "c57b5e24-1619-4a87-aaaa-289cdb7b1cd4",
   "metadata": {},
   "outputs": [
    {
     "name": "stdout",
     "output_type": "stream",
     "text": [
      "[ 1 18 13 16  8 21 12 28 17 11 15 31  2 23 19  7 20 14 10 22  9 27 25  4\n",
      " 32  6 30 26 24 33  5 39  3 29 61 40 46 41 36 34 35 50 43 42 37 51 38 45\n",
      " 54 52 49 62 55 47 44 48 57 53 59 56 63 58 70 67 64 60 69 65 68 66 81 79\n",
      " 75 72 74]\n"
     ]
    }
   ],
   "source": [
    "print(df['num_medications'].unique())"
   ]
  },
  {
   "cell_type": "code",
   "execution_count": 40,
   "id": "f162bb1d-7660-4596-99db-7d61d7bfeccc",
   "metadata": {},
   "outputs": [],
   "source": [
    "nan_num = df['num_medications'].isna().sum()"
   ]
  },
  {
   "cell_type": "code",
   "execution_count": 41,
   "id": "1b146cb9-426d-4dc1-a476-4f390e7ed92d",
   "metadata": {},
   "outputs": [
    {
     "data": {
      "text/plain": [
       "0"
      ]
     },
     "execution_count": 41,
     "metadata": {},
     "output_type": "execute_result"
    }
   ],
   "source": [
    "nan_num"
   ]
  },
  {
   "cell_type": "code",
   "execution_count": 42,
   "id": "b08695a7-fbd9-4351-83d0-8dff0f02303d",
   "metadata": {},
   "outputs": [
    {
     "name": "stdout",
     "output_type": "stream",
     "text": [
      "[ 1  3  2  4  5 13 12  9  7 10 11  6  8 14]\n"
     ]
    }
   ],
   "source": [
    "print(df['time_in_hospital'].unique())"
   ]
  },
  {
   "cell_type": "code",
   "execution_count": 43,
   "id": "de763763-bc89-433b-bba5-9727ef25445a",
   "metadata": {},
   "outputs": [],
   "source": [
    "nan_time = df['time_in_hospital'].isna().sum()"
   ]
  },
  {
   "cell_type": "code",
   "execution_count": 44,
   "id": "e321f505-d4d2-4dbe-b28b-911fdd96831c",
   "metadata": {},
   "outputs": [
    {
     "data": {
      "text/plain": [
       "0"
      ]
     },
     "execution_count": 44,
     "metadata": {},
     "output_type": "execute_result"
    }
   ],
   "source": [
    "nan_time"
   ]
  },
  {
   "cell_type": "code",
   "execution_count": 45,
   "id": "b5ca044a-2654-4cc6-892f-18c72a369f6f",
   "metadata": {},
   "outputs": [],
   "source": [
    "nan_gender = df['gender'].isna().sum()"
   ]
  },
  {
   "cell_type": "code",
   "execution_count": 46,
   "id": "5b327c2f-f500-4d7c-844a-ea5bcec5af86",
   "metadata": {},
   "outputs": [
    {
     "data": {
      "text/plain": [
       "0"
      ]
     },
     "execution_count": 46,
     "metadata": {},
     "output_type": "execute_result"
    }
   ],
   "source": [
    "nan_gender"
   ]
  },
  {
   "cell_type": "code",
   "execution_count": 47,
   "id": "a4ff68b7-d931-4853-8397-99652ebb9557",
   "metadata": {},
   "outputs": [],
   "source": [
    "nan_race = df['race'].isna().sum()"
   ]
  },
  {
   "cell_type": "code",
   "execution_count": 48,
   "id": "85e8b862-5f8b-410c-8c59-c820beee2332",
   "metadata": {},
   "outputs": [
    {
     "data": {
      "text/plain": [
       "0"
      ]
     },
     "execution_count": 48,
     "metadata": {},
     "output_type": "execute_result"
    }
   ],
   "source": [
    "nan_race"
   ]
  },
  {
   "cell_type": "code",
   "execution_count": 49,
   "id": "cec2dd1e-923b-44ac-8b41-45935d7bb7d1",
   "metadata": {},
   "outputs": [],
   "source": [
    "nan_diabmed = df['diabetesMed'].isna().sum()"
   ]
  },
  {
   "cell_type": "code",
   "execution_count": 50,
   "id": "6a2ac4da-6486-4840-a464-a9d499b5e04b",
   "metadata": {},
   "outputs": [
    {
     "data": {
      "text/plain": [
       "0"
      ]
     },
     "execution_count": 50,
     "metadata": {},
     "output_type": "execute_result"
    }
   ],
   "source": [
    "nan_diabmed"
   ]
  },
  {
   "cell_type": "code",
   "execution_count": 51,
   "id": "24ae8ea7-9a3a-42c9-a36d-daf50f6dc239",
   "metadata": {},
   "outputs": [],
   "source": [
    "nan_read = df['readmitted'].isna().sum()"
   ]
  },
  {
   "cell_type": "code",
   "execution_count": 52,
   "id": "794fd72d-19ef-41d3-932a-65bc3fea27d5",
   "metadata": {},
   "outputs": [
    {
     "data": {
      "text/plain": [
       "0"
      ]
     },
     "execution_count": 52,
     "metadata": {},
     "output_type": "execute_result"
    }
   ],
   "source": [
    "nan_read"
   ]
  },
  {
   "cell_type": "code",
   "execution_count": 53,
   "id": "8d1ce63c-6cee-4a4a-8b52-c82d5367b333",
   "metadata": {},
   "outputs": [
    {
     "name": "stdout",
     "output_type": "stream",
     "text": [
      "['NO' '>30' '<30']\n"
     ]
    }
   ],
   "source": [
    "print(df['readmitted'].unique())"
   ]
  },
  {
   "cell_type": "code",
   "execution_count": 54,
   "id": "818732a3-b214-4a97-85d9-84b125a9417e",
   "metadata": {},
   "outputs": [],
   "source": [
    "comp_diabetesMed_time_readmit = df[['diabetesMed', 'time_in_hospital', 'readmitted']]"
   ]
  },
  {
   "cell_type": "code",
   "execution_count": 55,
   "id": "e0764019-15b6-403e-b7ee-c79bd58babf5",
   "metadata": {},
   "outputs": [
    {
     "data": {
      "text/html": [
       "<div>\n",
       "<style scoped>\n",
       "    .dataframe tbody tr th:only-of-type {\n",
       "        vertical-align: middle;\n",
       "    }\n",
       "\n",
       "    .dataframe tbody tr th {\n",
       "        vertical-align: top;\n",
       "    }\n",
       "\n",
       "    .dataframe thead th {\n",
       "        text-align: right;\n",
       "    }\n",
       "</style>\n",
       "<table border=\"1\" class=\"dataframe\">\n",
       "  <thead>\n",
       "    <tr style=\"text-align: right;\">\n",
       "      <th></th>\n",
       "      <th>diabetesMed</th>\n",
       "      <th>time_in_hospital</th>\n",
       "      <th>readmitted</th>\n",
       "    </tr>\n",
       "  </thead>\n",
       "  <tbody>\n",
       "    <tr>\n",
       "      <th>0</th>\n",
       "      <td>No</td>\n",
       "      <td>1</td>\n",
       "      <td>NO</td>\n",
       "    </tr>\n",
       "    <tr>\n",
       "      <th>1</th>\n",
       "      <td>Yes</td>\n",
       "      <td>3</td>\n",
       "      <td>&gt;30</td>\n",
       "    </tr>\n",
       "    <tr>\n",
       "      <th>2</th>\n",
       "      <td>Yes</td>\n",
       "      <td>2</td>\n",
       "      <td>NO</td>\n",
       "    </tr>\n",
       "    <tr>\n",
       "      <th>3</th>\n",
       "      <td>Yes</td>\n",
       "      <td>2</td>\n",
       "      <td>NO</td>\n",
       "    </tr>\n",
       "    <tr>\n",
       "      <th>4</th>\n",
       "      <td>Yes</td>\n",
       "      <td>1</td>\n",
       "      <td>NO</td>\n",
       "    </tr>\n",
       "    <tr>\n",
       "      <th>...</th>\n",
       "      <td>...</td>\n",
       "      <td>...</td>\n",
       "      <td>...</td>\n",
       "    </tr>\n",
       "    <tr>\n",
       "      <th>101761</th>\n",
       "      <td>Yes</td>\n",
       "      <td>3</td>\n",
       "      <td>&gt;30</td>\n",
       "    </tr>\n",
       "    <tr>\n",
       "      <th>101762</th>\n",
       "      <td>Yes</td>\n",
       "      <td>5</td>\n",
       "      <td>NO</td>\n",
       "    </tr>\n",
       "    <tr>\n",
       "      <th>101763</th>\n",
       "      <td>Yes</td>\n",
       "      <td>1</td>\n",
       "      <td>NO</td>\n",
       "    </tr>\n",
       "    <tr>\n",
       "      <th>101764</th>\n",
       "      <td>Yes</td>\n",
       "      <td>10</td>\n",
       "      <td>NO</td>\n",
       "    </tr>\n",
       "    <tr>\n",
       "      <th>101765</th>\n",
       "      <td>No</td>\n",
       "      <td>6</td>\n",
       "      <td>NO</td>\n",
       "    </tr>\n",
       "  </tbody>\n",
       "</table>\n",
       "<p>99492 rows × 3 columns</p>\n",
       "</div>"
      ],
      "text/plain": [
       "       diabetesMed  time_in_hospital readmitted\n",
       "0               No                 1         NO\n",
       "1              Yes                 3        >30\n",
       "2              Yes                 2         NO\n",
       "3              Yes                 2         NO\n",
       "4              Yes                 1         NO\n",
       "...            ...               ...        ...\n",
       "101761         Yes                 3        >30\n",
       "101762         Yes                 5         NO\n",
       "101763         Yes                 1         NO\n",
       "101764         Yes                10         NO\n",
       "101765          No                 6         NO\n",
       "\n",
       "[99492 rows x 3 columns]"
      ]
     },
     "execution_count": 55,
     "metadata": {},
     "output_type": "execute_result"
    }
   ],
   "source": [
    "comp_diabetesMed_time_readmit"
   ]
  },
  {
   "cell_type": "code",
   "execution_count": 56,
   "id": "8aefa29a-9b52-4b70-bbbc-ead682885c67",
   "metadata": {},
   "outputs": [
    {
     "data": {
      "text/plain": [
       "diabetesMed\n",
       "Yes    76491\n",
       "No     23001\n",
       "Name: count, dtype: int64"
      ]
     },
     "execution_count": 56,
     "metadata": {},
     "output_type": "execute_result"
    }
   ],
   "source": [
    "comp_diabetesMed_time_readmit['diabetesMed'].value_counts()"
   ]
  },
  {
   "cell_type": "code",
   "execution_count": 57,
   "id": "c41b8743-6ddf-474b-a068-a8827c3efa18",
   "metadata": {},
   "outputs": [
    {
     "data": {
      "text/plain": [
       "time_in_hospital\n",
       "3     17342\n",
       "2     16841\n",
       "1     13877\n",
       "4     13605\n",
       "5      9763\n",
       "6      7366\n",
       "7      5720\n",
       "8      4297\n",
       "9      2940\n",
       "10     2291\n",
       "11     1816\n",
       "12     1427\n",
       "13     1189\n",
       "14     1018\n",
       "Name: count, dtype: int64"
      ]
     },
     "execution_count": 57,
     "metadata": {},
     "output_type": "execute_result"
    }
   ],
   "source": [
    "comp_diabetesMed_time_readmit['time_in_hospital'].value_counts()"
   ]
  },
  {
   "cell_type": "code",
   "execution_count": 58,
   "id": "51bbbb4a-9c89-401b-b798-c673df143827",
   "metadata": {},
   "outputs": [
    {
     "data": {
      "text/plain": [
       "readmitted\n",
       "NO     53316\n",
       ">30    35007\n",
       "<30    11169\n",
       "Name: count, dtype: int64"
      ]
     },
     "execution_count": 58,
     "metadata": {},
     "output_type": "execute_result"
    }
   ],
   "source": [
    "comp_diabetesMed_time_readmit['readmitted'].value_counts()"
   ]
  },
  {
   "cell_type": "code",
   "execution_count": 59,
   "id": "3dcf464a-6925-41c9-a198-9285795c95d2",
   "metadata": {},
   "outputs": [
    {
     "data": {
      "image/png": "[encoded data removed]",
      "text/plain": [
       "<Figure size 1200x600 with 1 Axes>"
      ]
     },
     "metadata": {},
     "output_type": "display_data"
    }
   ],
   "source": [
    "plt.figure(figsize=(12, 6))\n",
    "# If you want to hide the outliers in a boxplot, you can use the showfliers=False parameter. \n",
    "# This will remove the outlier points that are typically displayed as individual dots outside the box in the plot.\n",
    "sns.boxplot(data=df, x='readmitted', y='time_in_hospital', hue='diabetesMed', showfliers=False)\n",
    "plt.title('Time in Hospital by Readmission Status and Diabetes Medication (No Outliers)')\n",
    "plt.xlabel('Readmitted')\n",
    "plt.ylabel('Time in Hospital (Days)')\n",
    "plt.legend(title='Diabetes Medication')\n",
    "plt.show()\n",
    "\n",
    "#The box shows the middle 50% of the data.\n",
    "#The 'whiskers' extend to the highest and lowest values."
   ]
  },
  {
   "cell_type": "code",
   "execution_count": 60,
   "id": "796c8b0f-ef49-4b05-bcc2-738590607156",
   "metadata": {},
   "outputs": [],
   "source": [
    "#pd.crosstab(): Creates the cross-tabulation, showing how many patients in each combination of diabetesMed and readmitted.\n",
    "cross_tab = pd.crosstab(df['diabetesMed'], df['readmitted'])"
   ]
  },
  {
   "cell_type": "code",
   "execution_count": 61,
   "id": "7e8597af-15c0-4374-9628-c987b781051a",
   "metadata": {},
   "outputs": [
    {
     "data": {
      "text/html": [
       "<div>\n",
       "<style scoped>\n",
       "    .dataframe tbody tr th:only-of-type {\n",
       "        vertical-align: middle;\n",
       "    }\n",
       "\n",
       "    .dataframe tbody tr th {\n",
       "        vertical-align: top;\n",
       "    }\n",
       "\n",
       "    .dataframe thead th {\n",
       "        text-align: right;\n",
       "    }\n",
       "</style>\n",
       "<table border=\"1\" class=\"dataframe\">\n",
       "  <thead>\n",
       "    <tr style=\"text-align: right;\">\n",
       "      <th>readmitted</th>\n",
       "      <th>&lt;30</th>\n",
       "      <th>&gt;30</th>\n",
       "      <th>NO</th>\n",
       "    </tr>\n",
       "    <tr>\n",
       "      <th>diabetesMed</th>\n",
       "      <th></th>\n",
       "      <th></th>\n",
       "      <th></th>\n",
       "    </tr>\n",
       "  </thead>\n",
       "  <tbody>\n",
       "    <tr>\n",
       "      <th>No</th>\n",
       "      <td>2218</td>\n",
       "      <td>7147</td>\n",
       "      <td>13636</td>\n",
       "    </tr>\n",
       "    <tr>\n",
       "      <th>Yes</th>\n",
       "      <td>8951</td>\n",
       "      <td>27860</td>\n",
       "      <td>39680</td>\n",
       "    </tr>\n",
       "  </tbody>\n",
       "</table>\n",
       "</div>"
      ],
      "text/plain": [
       "readmitted    <30    >30     NO\n",
       "diabetesMed                    \n",
       "No           2218   7147  13636\n",
       "Yes          8951  27860  39680"
      ]
     },
     "execution_count": 61,
     "metadata": {},
     "output_type": "execute_result"
    }
   ],
   "source": [
    "cross_tab"
   ]
  },
  {
   "cell_type": "code",
   "execution_count": 62,
   "id": "56901602-f16f-4415-a41b-798adeccf1c0",
   "metadata": {},
   "outputs": [
    {
     "data": {
      "image/png": "[encoded data removed]",
      "text/plain": [
       "<Figure size 1000x600 with 1 Axes>"
      ]
     },
     "metadata": {},
     "output_type": "display_data"
    }
   ],
   "source": [
    "cross_tab.plot(kind='bar', figsize=(10, 6), colormap='Accent', width=.75, edgecolor='black')\n",
    "\n",
    "plt.title('Readmission Status by Diabetes Medication')\n",
    "plt.xlabel('Diabetes Medication')\n",
    "plt.ylabel('Number of Patients')\n",
    "plt.xticks(rotation=0)\n",
    "plt.legend(title='Readmission Status', labels=['<30 Days', '>30 Days', 'No'])\n",
    "\n",
    "plt.show()"
   ]
  },
  {
   "cell_type": "code",
   "execution_count": null,
   "id": "f424d8e2-0132-4673-877d-c3edc1cb846f",
   "metadata": {},
   "outputs": [],
   "source": []
  },
  {
   "cell_type": "markdown",
   "id": "51675b22-0376-46ec-81c5-3bd154400833",
   "metadata": {},
   "source": [
    "FINDINGS"
   ]
  },
  {
   "cell_type": "markdown",
   "id": "f004fa47-55c5-4259-84ee-968dad3ec2ab",
   "metadata": {},
   "source": [
    "Diabetes Medication (diabetesMed) Distribution:\n",
    "\n",
    "    Yes: 76,491 (about 77% of the dataset) are on diabetes medication.\n",
    "\n",
    "    No: 23,001 (about 23% of the dataset) are not on diabetes medication.\n",
    "\n",
    "Time in Hospital (time_in_hospital) Distribution:\n",
    "\n",
    "    The most common time spent in the hospital is 3 days (17,342 patients).\n",
    "    \n",
    "    Other frequent durations are 2 days (16,841 patients), 1 day (13,877 patients), and 4 days (13,605 patients).\n",
    "    \n",
    "    The least common are 13 days (1,189 patients) and 14 days (1,018 patients).\n",
    "\n",
    "Readmission Status (readmitted) Distribution:\n",
    "\n",
    "    No readmission (NO): 53,316 (about 53.6% of patients) were not readmitted.\n",
    "\n",
    "    >30 days: 35,007 (about 35.2%) patients were readmitted after more than 30 days.\n",
    "\n",
    "    <30 days: 11,169 (about 11.2%) patients were readmitted within 30 days.\n"
   ]
  },
  {
   "cell_type": "markdown",
   "id": "4d026227-798c-4a9f-8293-22124a408e2c",
   "metadata": {},
   "source": [
    "Cross-tabulation between Diabetes Medication and Readmission Status:\n",
    "\n",
    "Readmission by Diabetes Medication:\n",
    "\n",
    "\n",
    "  For patients on Diabetes Medication (Yes):\n",
    "\n",
    "    <30 Days: 11.7% of patients\n",
    "\n",
    "    >30 Days: 36.4% of patients\n",
    "\n",
    "    No Readmission (NO): 51.8% of patients\n",
    "\n",
    "  For patients not on Diabetes Medication (No):\n",
    "\n",
    "    <30 Days: 9.6% of patients\n",
    "\n",
    "    >30 Days: 31.1% of patients\n",
    "\n",
    "    No Readmission (NO): 59.3% of patients"
   ]
  },
  {
   "cell_type": "markdown",
   "id": "94690158-3795-4929-ad46-e8905d616007",
   "metadata": {},
   "source": [
    "INSIGHTS"
   ]
  },
  {
   "cell_type": "markdown",
   "id": "173627fc-68d3-4a43-8e45-778e65526ed3",
   "metadata": {},
   "source": [
    "Patients on diabetes medication have a higher number of readmissions within 30 days and readmissions after 30 dayscompared to those not on diabetes medication. A larger percentage of patients on diabetes medication were readmitted (either within or after 30 days), indicating that patients on diabetes medication may have more complex health conditions requiring further hospitalization. Patients not on diabetes medication have a higher percentage of non-readmission, possibly suggesting that patients who are not on diabetes medication may have fewer complications or hospital stays that are less likely to require readmission. The high number of patients not readmitted (53,316) shows that a significant portion of the population doesn't experience recurring hospitalizations, which may indicate successful management of their condition."
   ]
  }
 ],
 "metadata": {
  "kernelspec": {
   "display_name": "Python [conda env:base] *",
   "language": "python",
   "name": "conda-base-py"
  },
  "language_info": {
   "codemirror_mode": {
    "name": "ipython",
    "version": 3
   },
   "file_extension": ".py",
   "mimetype": "text/x-python",
   "name": "python",
   "nbconvert_exporter": "python",
   "pygments_lexer": "ipython3",
   "version": "3.12.7"
  }
 },
 "nbformat": 4,
 "nbformat_minor": 5
}
