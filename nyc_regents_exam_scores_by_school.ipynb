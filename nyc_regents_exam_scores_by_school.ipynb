{
 "cells": [
  {
   "cell_type": "code",
   "execution_count": 1,
   "id": "d64ad1ed-d726-493a-ab6d-987ad974c0fb",
   "metadata": {},
   "outputs": [],
   "source": [
    "import pandas as pd\n",
    "import matplotlib.pyplot as plt\n",
    "%matplotlib inline\n",
    "import numpy as np\n",
    "import seaborn as sns"
   ]
  },
  {
   "cell_type": "code",
   "execution_count": 2,
   "id": "fe7d37f0-f197-4756-baff-6f1f3e35495c",
   "metadata": {},
   "outputs": [],
   "source": [
    "df = pd.read_csv('https://raw.githubusercontent.com/CunyLaguardiaDataAnalytics/datasets/master/2014-15_To_2016-17_School-_Level_NYC_Regents_Report_For_All_Variables.csv')"
   ]
  },
  {
   "cell_type": "code",
   "execution_count": 3,
   "id": "bf5dd77b-f2dd-4928-aa77-807840c843d4",
   "metadata": {},
   "outputs": [
    {
     "data": {
      "text/plain": [
       "(212331, 15)"
      ]
     },
     "execution_count": 3,
     "metadata": {},
     "output_type": "execute_result"
    }
   ],
   "source": [
    "df.shape"
   ]
  },
  {
   "cell_type": "code",
   "execution_count": 4,
   "id": "071ed3b3-9502-4940-a36b-4660f052c97d",
   "metadata": {},
   "outputs": [
    {
     "name": "stdout",
     "output_type": "stream",
     "text": [
      "School DBN\n",
      "School Name\n",
      "School Level\n",
      "Regents Exam\n",
      "Year\n",
      "Total Tested\n",
      "Mean Score\n",
      "Number Scoring Below 65\n",
      "Percent Scoring Below 65\n",
      "Number Scoring 65 or Above\n",
      "Percent Scoring 65 or Above\n",
      "Number Scoring 80 or Above\n",
      "Percent Scoring 80 or Above\n",
      "Number Scoring CR\n",
      "Percent Scoring CR\n"
     ]
    }
   ],
   "source": [
    "for col in df.columns:\n",
    "    print(col)"
   ]
  },
  {
   "cell_type": "code",
   "execution_count": 5,
   "id": "32f53c88-9f5d-4bc3-9483-56515c08d4e2",
   "metadata": {},
   "outputs": [
    {
     "data": {
      "text/html": [
       "<div>\n",
       "<style scoped>\n",
       "    .dataframe tbody tr th:only-of-type {\n",
       "        vertical-align: middle;\n",
       "    }\n",
       "\n",
       "    .dataframe tbody tr th {\n",
       "        vertical-align: top;\n",
       "    }\n",
       "\n",
       "    .dataframe thead th {\n",
       "        text-align: right;\n",
       "    }\n",
       "</style>\n",
       "<table border=\"1\" class=\"dataframe\">\n",
       "  <thead>\n",
       "    <tr style=\"text-align: right;\">\n",
       "      <th></th>\n",
       "      <th>School DBN</th>\n",
       "      <th>School Name</th>\n",
       "      <th>School Level</th>\n",
       "      <th>Regents Exam</th>\n",
       "      <th>Year</th>\n",
       "      <th>Total Tested</th>\n",
       "      <th>Mean Score</th>\n",
       "      <th>Number Scoring Below 65</th>\n",
       "      <th>Percent Scoring Below 65</th>\n",
       "      <th>Number Scoring 65 or Above</th>\n",
       "      <th>Percent Scoring 65 or Above</th>\n",
       "      <th>Number Scoring 80 or Above</th>\n",
       "      <th>Percent Scoring 80 or Above</th>\n",
       "      <th>Number Scoring CR</th>\n",
       "      <th>Percent Scoring CR</th>\n",
       "    </tr>\n",
       "  </thead>\n",
       "  <tbody>\n",
       "    <tr>\n",
       "      <th>0</th>\n",
       "      <td>01M034</td>\n",
       "      <td>P.S. 034 Franklin D. Roosevelt</td>\n",
       "      <td>K-8</td>\n",
       "      <td>Common Core Algebra</td>\n",
       "      <td>2017</td>\n",
       "      <td>4</td>\n",
       "      <td>s</td>\n",
       "      <td>s</td>\n",
       "      <td>s</td>\n",
       "      <td>s</td>\n",
       "      <td>s</td>\n",
       "      <td>s</td>\n",
       "      <td>s</td>\n",
       "      <td>na</td>\n",
       "      <td>na</td>\n",
       "    </tr>\n",
       "    <tr>\n",
       "      <th>1</th>\n",
       "      <td>01M034</td>\n",
       "      <td>P.S. 034 Franklin D. Roosevelt</td>\n",
       "      <td>K-8</td>\n",
       "      <td>Living Environment</td>\n",
       "      <td>2015</td>\n",
       "      <td>16</td>\n",
       "      <td>77.9</td>\n",
       "      <td>1</td>\n",
       "      <td>6.3</td>\n",
       "      <td>15</td>\n",
       "      <td>93.8</td>\n",
       "      <td>7</td>\n",
       "      <td>43.8</td>\n",
       "      <td>na</td>\n",
       "      <td>na</td>\n",
       "    </tr>\n",
       "    <tr>\n",
       "      <th>2</th>\n",
       "      <td>01M034</td>\n",
       "      <td>P.S. 034 Franklin D. Roosevelt</td>\n",
       "      <td>K-8</td>\n",
       "      <td>Living Environment</td>\n",
       "      <td>2016</td>\n",
       "      <td>9</td>\n",
       "      <td>74</td>\n",
       "      <td>1</td>\n",
       "      <td>11.1</td>\n",
       "      <td>8</td>\n",
       "      <td>88.9</td>\n",
       "      <td>2</td>\n",
       "      <td>22.2</td>\n",
       "      <td>na</td>\n",
       "      <td>na</td>\n",
       "    </tr>\n",
       "    <tr>\n",
       "      <th>3</th>\n",
       "      <td>01M140</td>\n",
       "      <td>P.S. 140 Nathan Straus</td>\n",
       "      <td>K-8</td>\n",
       "      <td>Common Core Algebra</td>\n",
       "      <td>2016</td>\n",
       "      <td>3</td>\n",
       "      <td>s</td>\n",
       "      <td>s</td>\n",
       "      <td>s</td>\n",
       "      <td>s</td>\n",
       "      <td>s</td>\n",
       "      <td>s</td>\n",
       "      <td>s</td>\n",
       "      <td>na</td>\n",
       "      <td>na</td>\n",
       "    </tr>\n",
       "    <tr>\n",
       "      <th>4</th>\n",
       "      <td>01M140</td>\n",
       "      <td>P.S. 140 Nathan Straus</td>\n",
       "      <td>K-8</td>\n",
       "      <td>Common Core Algebra</td>\n",
       "      <td>2017</td>\n",
       "      <td>2</td>\n",
       "      <td>s</td>\n",
       "      <td>s</td>\n",
       "      <td>s</td>\n",
       "      <td>s</td>\n",
       "      <td>s</td>\n",
       "      <td>s</td>\n",
       "      <td>s</td>\n",
       "      <td>na</td>\n",
       "      <td>na</td>\n",
       "    </tr>\n",
       "  </tbody>\n",
       "</table>\n",
       "</div>"
      ],
      "text/plain": [
       "  School DBN                     School Name School Level  \\\n",
       "0     01M034  P.S. 034 Franklin D. Roosevelt          K-8   \n",
       "1     01M034  P.S. 034 Franklin D. Roosevelt          K-8   \n",
       "2     01M034  P.S. 034 Franklin D. Roosevelt          K-8   \n",
       "3     01M140          P.S. 140 Nathan Straus          K-8   \n",
       "4     01M140          P.S. 140 Nathan Straus          K-8   \n",
       "\n",
       "          Regents Exam  Year  Total Tested Mean Score Number Scoring Below 65  \\\n",
       "0  Common Core Algebra  2017             4          s                       s   \n",
       "1   Living Environment  2015            16       77.9                       1   \n",
       "2   Living Environment  2016             9         74                       1   \n",
       "3  Common Core Algebra  2016             3          s                       s   \n",
       "4  Common Core Algebra  2017             2          s                       s   \n",
       "\n",
       "  Percent Scoring Below 65 Number Scoring 65 or Above  \\\n",
       "0                        s                          s   \n",
       "1                      6.3                         15   \n",
       "2                     11.1                          8   \n",
       "3                        s                          s   \n",
       "4                        s                          s   \n",
       "\n",
       "  Percent Scoring 65 or Above Number Scoring 80 or Above  \\\n",
       "0                           s                          s   \n",
       "1                        93.8                          7   \n",
       "2                        88.9                          2   \n",
       "3                           s                          s   \n",
       "4                           s                          s   \n",
       "\n",
       "  Percent Scoring 80 or Above Number Scoring CR Percent Scoring CR  \n",
       "0                           s                na                 na  \n",
       "1                        43.8                na                 na  \n",
       "2                        22.2                na                 na  \n",
       "3                           s                na                 na  \n",
       "4                           s                na                 na  "
      ]
     },
     "execution_count": 5,
     "metadata": {},
     "output_type": "execute_result"
    }
   ],
   "source": [
    "df.head()"
   ]
  },
  {
   "cell_type": "code",
   "execution_count": 6,
   "id": "0f6b8b69-4381-47b0-91b0-fb2f42afbf49",
   "metadata": {},
   "outputs": [
    {
     "data": {
      "text/html": [
       "<div>\n",
       "<style scoped>\n",
       "    .dataframe tbody tr th:only-of-type {\n",
       "        vertical-align: middle;\n",
       "    }\n",
       "\n",
       "    .dataframe tbody tr th {\n",
       "        vertical-align: top;\n",
       "    }\n",
       "\n",
       "    .dataframe thead th {\n",
       "        text-align: right;\n",
       "    }\n",
       "</style>\n",
       "<table border=\"1\" class=\"dataframe\">\n",
       "  <thead>\n",
       "    <tr style=\"text-align: right;\">\n",
       "      <th></th>\n",
       "      <th>School DBN</th>\n",
       "      <th>School Name</th>\n",
       "      <th>School Level</th>\n",
       "      <th>Regents Exam</th>\n",
       "      <th>Year</th>\n",
       "      <th>Total Tested</th>\n",
       "      <th>Mean Score</th>\n",
       "      <th>Number Scoring Below 65</th>\n",
       "      <th>Percent Scoring Below 65</th>\n",
       "      <th>Number Scoring 65 or Above</th>\n",
       "      <th>Percent Scoring 65 or Above</th>\n",
       "      <th>Number Scoring 80 or Above</th>\n",
       "      <th>Percent Scoring 80 or Above</th>\n",
       "      <th>Number Scoring CR</th>\n",
       "      <th>Percent Scoring CR</th>\n",
       "    </tr>\n",
       "  </thead>\n",
       "  <tbody>\n",
       "    <tr>\n",
       "      <th>60938</th>\n",
       "      <td>03M485</td>\n",
       "      <td>Fiorello H. LaGuardia High School of Music &amp; A...</td>\n",
       "      <td>High school</td>\n",
       "      <td>Common Core Geometry</td>\n",
       "      <td>2017</td>\n",
       "      <td>641</td>\n",
       "      <td>78</td>\n",
       "      <td>49</td>\n",
       "      <td>7.6</td>\n",
       "      <td>592</td>\n",
       "      <td>92.4</td>\n",
       "      <td>293</td>\n",
       "      <td>45.7</td>\n",
       "      <td>535</td>\n",
       "      <td>83.5</td>\n",
       "    </tr>\n",
       "    <tr>\n",
       "      <th>27927</th>\n",
       "      <td>08X305</td>\n",
       "      <td>Pablo Neruda Academy</td>\n",
       "      <td>High school</td>\n",
       "      <td>Geometry</td>\n",
       "      <td>2016</td>\n",
       "      <td>19</td>\n",
       "      <td>46.6</td>\n",
       "      <td>18</td>\n",
       "      <td>94.7</td>\n",
       "      <td>1</td>\n",
       "      <td>5.3</td>\n",
       "      <td>1</td>\n",
       "      <td>5.3</td>\n",
       "      <td>1</td>\n",
       "      <td>5.3</td>\n",
       "    </tr>\n",
       "    <tr>\n",
       "      <th>176529</th>\n",
       "      <td>15K592</td>\n",
       "      <td>Khalil Gibran International Academy</td>\n",
       "      <td>High school</td>\n",
       "      <td>U.S. History and Government</td>\n",
       "      <td>2017</td>\n",
       "      <td>19</td>\n",
       "      <td>69.1</td>\n",
       "      <td>6</td>\n",
       "      <td>31.6</td>\n",
       "      <td>13</td>\n",
       "      <td>68.4</td>\n",
       "      <td>5</td>\n",
       "      <td>26.3</td>\n",
       "      <td>na</td>\n",
       "      <td>na</td>\n",
       "    </tr>\n",
       "    <tr>\n",
       "      <th>5621</th>\n",
       "      <td>09X297</td>\n",
       "      <td>Morris Academy for Collaborative Studies</td>\n",
       "      <td>High school</td>\n",
       "      <td>U.S. History and Government</td>\n",
       "      <td>2015</td>\n",
       "      <td>119</td>\n",
       "      <td>66.6</td>\n",
       "      <td>49</td>\n",
       "      <td>41.2</td>\n",
       "      <td>70</td>\n",
       "      <td>58.8</td>\n",
       "      <td>33</td>\n",
       "      <td>27.7</td>\n",
       "      <td>na</td>\n",
       "      <td>na</td>\n",
       "    </tr>\n",
       "    <tr>\n",
       "      <th>61538</th>\n",
       "      <td>04M171</td>\n",
       "      <td>P.S. 171 Patrick Henry</td>\n",
       "      <td>K-8</td>\n",
       "      <td>Common Core Algebra</td>\n",
       "      <td>2016</td>\n",
       "      <td>22</td>\n",
       "      <td>81.8</td>\n",
       "      <td>0</td>\n",
       "      <td>0</td>\n",
       "      <td>22</td>\n",
       "      <td>100</td>\n",
       "      <td>16</td>\n",
       "      <td>72.7</td>\n",
       "      <td>22</td>\n",
       "      <td>100</td>\n",
       "    </tr>\n",
       "  </tbody>\n",
       "</table>\n",
       "</div>"
      ],
      "text/plain": [
       "       School DBN                                        School Name  \\\n",
       "60938      03M485  Fiorello H. LaGuardia High School of Music & A...   \n",
       "27927      08X305                               Pablo Neruda Academy   \n",
       "176529     15K592                Khalil Gibran International Academy   \n",
       "5621       09X297           Morris Academy for Collaborative Studies   \n",
       "61538      04M171                             P.S. 171 Patrick Henry   \n",
       "\n",
       "       School Level                 Regents Exam  Year  Total Tested  \\\n",
       "60938   High school         Common Core Geometry  2017           641   \n",
       "27927   High school                     Geometry  2016            19   \n",
       "176529  High school  U.S. History and Government  2017            19   \n",
       "5621    High school  U.S. History and Government  2015           119   \n",
       "61538           K-8          Common Core Algebra  2016            22   \n",
       "\n",
       "       Mean Score Number Scoring Below 65 Percent Scoring Below 65  \\\n",
       "60938          78                      49                      7.6   \n",
       "27927        46.6                      18                     94.7   \n",
       "176529       69.1                       6                     31.6   \n",
       "5621         66.6                      49                     41.2   \n",
       "61538        81.8                       0                        0   \n",
       "\n",
       "       Number Scoring 65 or Above Percent Scoring 65 or Above  \\\n",
       "60938                         592                        92.4   \n",
       "27927                           1                         5.3   \n",
       "176529                         13                        68.4   \n",
       "5621                           70                        58.8   \n",
       "61538                          22                         100   \n",
       "\n",
       "       Number Scoring 80 or Above Percent Scoring 80 or Above  \\\n",
       "60938                         293                        45.7   \n",
       "27927                           1                         5.3   \n",
       "176529                          5                        26.3   \n",
       "5621                           33                        27.7   \n",
       "61538                          16                        72.7   \n",
       "\n",
       "       Number Scoring CR Percent Scoring CR  \n",
       "60938                535               83.5  \n",
       "27927                  1                5.3  \n",
       "176529                na                 na  \n",
       "5621                  na                 na  \n",
       "61538                 22                100  "
      ]
     },
     "execution_count": 6,
     "metadata": {},
     "output_type": "execute_result"
    }
   ],
   "source": [
    "df.sample(5)"
   ]
  },
  {
   "cell_type": "code",
   "execution_count": 7,
   "id": "ad03d551-7217-4c89-acd0-83cfa79919cb",
   "metadata": {},
   "outputs": [
    {
     "name": "stdout",
     "output_type": "stream",
     "text": [
      "<class 'pandas.core.frame.DataFrame'>\n",
      "RangeIndex: 212331 entries, 0 to 212330\n",
      "Data columns (total 15 columns):\n",
      " #   Column                       Non-Null Count   Dtype \n",
      "---  ------                       --------------   ----- \n",
      " 0   School DBN                   212331 non-null  object\n",
      " 1   School Name                  212331 non-null  object\n",
      " 2   School Level                 212331 non-null  object\n",
      " 3   Regents Exam                 212321 non-null  object\n",
      " 4   Year                         212331 non-null  int64 \n",
      " 5   Total Tested                 212331 non-null  int64 \n",
      " 6   Mean Score                   212331 non-null  object\n",
      " 7   Number Scoring Below 65      212331 non-null  object\n",
      " 8   Percent Scoring Below 65     212331 non-null  object\n",
      " 9   Number Scoring 65 or Above   212331 non-null  object\n",
      " 10  Percent Scoring 65 or Above  212331 non-null  object\n",
      " 11  Number Scoring 80 or Above   212331 non-null  object\n",
      " 12  Percent Scoring 80 or Above  212331 non-null  object\n",
      " 13  Number Scoring CR            212331 non-null  object\n",
      " 14  Percent Scoring CR           212331 non-null  object\n",
      "dtypes: int64(2), object(13)\n",
      "memory usage: 24.3+ MB\n"
     ]
    }
   ],
   "source": [
    "df.info()"
   ]
  },
  {
   "cell_type": "code",
   "execution_count": 8,
   "id": "2bb05364-6c39-4bb3-8ed1-6f0bd08b4831",
   "metadata": {},
   "outputs": [
    {
     "data": {
      "text/plain": [
       "School DBN                     False\n",
       "School Name                    False\n",
       "School Level                   False\n",
       "Regents Exam                    True\n",
       "Year                           False\n",
       "Total Tested                   False\n",
       "Mean Score                     False\n",
       "Number Scoring Below 65        False\n",
       "Percent Scoring Below 65       False\n",
       "Number Scoring 65 or Above     False\n",
       "Percent Scoring 65 or Above    False\n",
       "Number Scoring 80 or Above     False\n",
       "Percent Scoring 80 or Above    False\n",
       "Number Scoring CR              False\n",
       "Percent Scoring CR             False\n",
       "dtype: bool"
      ]
     },
     "execution_count": 8,
     "metadata": {},
     "output_type": "execute_result"
    }
   ],
   "source": [
    "df.isnull().sum()>(0)"
   ]
  },
  {
   "cell_type": "code",
   "execution_count": 9,
   "id": "f79e3196-d741-49ed-af79-59e8e87cc0c7",
   "metadata": {},
   "outputs": [
    {
     "data": {
      "text/plain": [
       "School DBN                      0\n",
       "School Name                     0\n",
       "School Level                    0\n",
       "Regents Exam                   10\n",
       "Year                            0\n",
       "Total Tested                    0\n",
       "Mean Score                      0\n",
       "Number Scoring Below 65         0\n",
       "Percent Scoring Below 65        0\n",
       "Number Scoring 65 or Above      0\n",
       "Percent Scoring 65 or Above     0\n",
       "Number Scoring 80 or Above      0\n",
       "Percent Scoring 80 or Above     0\n",
       "Number Scoring CR               0\n",
       "Percent Scoring CR              0\n",
       "dtype: int64"
      ]
     },
     "execution_count": 9,
     "metadata": {},
     "output_type": "execute_result"
    }
   ],
   "source": [
    "df.isnull().sum()"
   ]
  },
  {
   "cell_type": "code",
   "execution_count": 10,
   "id": "a17d5232-3ce8-4de7-9cac-6759d519d514",
   "metadata": {},
   "outputs": [
    {
     "data": {
      "text/html": [
       "<div>\n",
       "<style scoped>\n",
       "    .dataframe tbody tr th:only-of-type {\n",
       "        vertical-align: middle;\n",
       "    }\n",
       "\n",
       "    .dataframe tbody tr th {\n",
       "        vertical-align: top;\n",
       "    }\n",
       "\n",
       "    .dataframe thead th {\n",
       "        text-align: right;\n",
       "    }\n",
       "</style>\n",
       "<table border=\"1\" class=\"dataframe\">\n",
       "  <thead>\n",
       "    <tr style=\"text-align: right;\">\n",
       "      <th></th>\n",
       "      <th>School DBN</th>\n",
       "      <th>School Name</th>\n",
       "      <th>School Level</th>\n",
       "      <th>Regents Exam</th>\n",
       "      <th>Year</th>\n",
       "      <th>Total Tested</th>\n",
       "      <th>Mean Score</th>\n",
       "      <th>Number Scoring Below 65</th>\n",
       "      <th>Percent Scoring Below 65</th>\n",
       "      <th>Number Scoring 65 or Above</th>\n",
       "      <th>Percent Scoring 65 or Above</th>\n",
       "      <th>Number Scoring 80 or Above</th>\n",
       "      <th>Percent Scoring 80 or Above</th>\n",
       "      <th>Number Scoring CR</th>\n",
       "      <th>Percent Scoring CR</th>\n",
       "    </tr>\n",
       "  </thead>\n",
       "  <tbody>\n",
       "    <tr>\n",
       "      <th>18654</th>\n",
       "      <td>84M478</td>\n",
       "      <td>Inwood Academy for Leadership Charter School</td>\n",
       "      <td>Secondary School</td>\n",
       "      <td>NaN</td>\n",
       "      <td>2015</td>\n",
       "      <td>90</td>\n",
       "      <td>55.6</td>\n",
       "      <td>61</td>\n",
       "      <td>67.8</td>\n",
       "      <td>29</td>\n",
       "      <td>32.2</td>\n",
       "      <td>6</td>\n",
       "      <td>6.7</td>\n",
       "      <td>0</td>\n",
       "      <td>0</td>\n",
       "    </tr>\n",
       "    <tr>\n",
       "      <th>52756</th>\n",
       "      <td>84M478</td>\n",
       "      <td>Inwood Academy for Leadership Charter School</td>\n",
       "      <td>Secondary School</td>\n",
       "      <td>NaN</td>\n",
       "      <td>2015</td>\n",
       "      <td>81</td>\n",
       "      <td>55.9</td>\n",
       "      <td>55</td>\n",
       "      <td>67.9</td>\n",
       "      <td>26</td>\n",
       "      <td>32.1</td>\n",
       "      <td>5</td>\n",
       "      <td>6.2</td>\n",
       "      <td>0</td>\n",
       "      <td>0</td>\n",
       "    </tr>\n",
       "    <tr>\n",
       "      <th>52757</th>\n",
       "      <td>84M478</td>\n",
       "      <td>Inwood Academy for Leadership Charter School</td>\n",
       "      <td>Secondary School</td>\n",
       "      <td>NaN</td>\n",
       "      <td>2015</td>\n",
       "      <td>9</td>\n",
       "      <td>53.4</td>\n",
       "      <td>6</td>\n",
       "      <td>66.7</td>\n",
       "      <td>3</td>\n",
       "      <td>33.3</td>\n",
       "      <td>1</td>\n",
       "      <td>11.1</td>\n",
       "      <td>0</td>\n",
       "      <td>0</td>\n",
       "    </tr>\n",
       "    <tr>\n",
       "      <th>100865</th>\n",
       "      <td>84M478</td>\n",
       "      <td>Inwood Academy for Leadership Charter School</td>\n",
       "      <td>Secondary School</td>\n",
       "      <td>NaN</td>\n",
       "      <td>2015</td>\n",
       "      <td>5</td>\n",
       "      <td>s</td>\n",
       "      <td>s</td>\n",
       "      <td>s</td>\n",
       "      <td>s</td>\n",
       "      <td>s</td>\n",
       "      <td>s</td>\n",
       "      <td>s</td>\n",
       "      <td>na</td>\n",
       "      <td>na</td>\n",
       "    </tr>\n",
       "    <tr>\n",
       "      <th>100866</th>\n",
       "      <td>84M478</td>\n",
       "      <td>Inwood Academy for Leadership Charter School</td>\n",
       "      <td>Secondary School</td>\n",
       "      <td>NaN</td>\n",
       "      <td>2015</td>\n",
       "      <td>54</td>\n",
       "      <td>57.4</td>\n",
       "      <td>34</td>\n",
       "      <td>63</td>\n",
       "      <td>20</td>\n",
       "      <td>37</td>\n",
       "      <td>6</td>\n",
       "      <td>11.1</td>\n",
       "      <td>0</td>\n",
       "      <td>0</td>\n",
       "    </tr>\n",
       "    <tr>\n",
       "      <th>100867</th>\n",
       "      <td>84M478</td>\n",
       "      <td>Inwood Academy for Leadership Charter School</td>\n",
       "      <td>Secondary School</td>\n",
       "      <td>NaN</td>\n",
       "      <td>2015</td>\n",
       "      <td>31</td>\n",
       "      <td>s</td>\n",
       "      <td>s</td>\n",
       "      <td>s</td>\n",
       "      <td>s</td>\n",
       "      <td>s</td>\n",
       "      <td>s</td>\n",
       "      <td>s</td>\n",
       "      <td>na</td>\n",
       "      <td>na</td>\n",
       "    </tr>\n",
       "    <tr>\n",
       "      <th>138300</th>\n",
       "      <td>84M478</td>\n",
       "      <td>Inwood Academy for Leadership Charter School</td>\n",
       "      <td>Secondary School</td>\n",
       "      <td>NaN</td>\n",
       "      <td>2015</td>\n",
       "      <td>54</td>\n",
       "      <td>57.3</td>\n",
       "      <td>34</td>\n",
       "      <td>63</td>\n",
       "      <td>20</td>\n",
       "      <td>37</td>\n",
       "      <td>5</td>\n",
       "      <td>9.3</td>\n",
       "      <td>0</td>\n",
       "      <td>0</td>\n",
       "    </tr>\n",
       "    <tr>\n",
       "      <th>138301</th>\n",
       "      <td>84M478</td>\n",
       "      <td>Inwood Academy for Leadership Charter School</td>\n",
       "      <td>Secondary School</td>\n",
       "      <td>NaN</td>\n",
       "      <td>2015</td>\n",
       "      <td>36</td>\n",
       "      <td>53.2</td>\n",
       "      <td>27</td>\n",
       "      <td>75</td>\n",
       "      <td>9</td>\n",
       "      <td>25</td>\n",
       "      <td>1</td>\n",
       "      <td>2.8</td>\n",
       "      <td>0</td>\n",
       "      <td>0</td>\n",
       "    </tr>\n",
       "    <tr>\n",
       "      <th>209785</th>\n",
       "      <td>84M478</td>\n",
       "      <td>Inwood Academy for Leadership Charter School</td>\n",
       "      <td>Secondary School</td>\n",
       "      <td>NaN</td>\n",
       "      <td>2015</td>\n",
       "      <td>12</td>\n",
       "      <td>59</td>\n",
       "      <td>9</td>\n",
       "      <td>75</td>\n",
       "      <td>3</td>\n",
       "      <td>25</td>\n",
       "      <td>1</td>\n",
       "      <td>8.3</td>\n",
       "      <td>0</td>\n",
       "      <td>0</td>\n",
       "    </tr>\n",
       "    <tr>\n",
       "      <th>209786</th>\n",
       "      <td>84M478</td>\n",
       "      <td>Inwood Academy for Leadership Charter School</td>\n",
       "      <td>Secondary School</td>\n",
       "      <td>NaN</td>\n",
       "      <td>2015</td>\n",
       "      <td>78</td>\n",
       "      <td>55.1</td>\n",
       "      <td>52</td>\n",
       "      <td>66.7</td>\n",
       "      <td>26</td>\n",
       "      <td>33.3</td>\n",
       "      <td>5</td>\n",
       "      <td>6.4</td>\n",
       "      <td>0</td>\n",
       "      <td>0</td>\n",
       "    </tr>\n",
       "  </tbody>\n",
       "</table>\n",
       "</div>"
      ],
      "text/plain": [
       "       School DBN                                   School Name  \\\n",
       "18654      84M478  Inwood Academy for Leadership Charter School   \n",
       "52756      84M478  Inwood Academy for Leadership Charter School   \n",
       "52757      84M478  Inwood Academy for Leadership Charter School   \n",
       "100865     84M478  Inwood Academy for Leadership Charter School   \n",
       "100866     84M478  Inwood Academy for Leadership Charter School   \n",
       "100867     84M478  Inwood Academy for Leadership Charter School   \n",
       "138300     84M478  Inwood Academy for Leadership Charter School   \n",
       "138301     84M478  Inwood Academy for Leadership Charter School   \n",
       "209785     84M478  Inwood Academy for Leadership Charter School   \n",
       "209786     84M478  Inwood Academy for Leadership Charter School   \n",
       "\n",
       "            School Level Regents Exam  Year  Total Tested Mean Score  \\\n",
       "18654   Secondary School          NaN  2015            90       55.6   \n",
       "52756   Secondary School          NaN  2015            81       55.9   \n",
       "52757   Secondary School          NaN  2015             9       53.4   \n",
       "100865  Secondary School          NaN  2015             5          s   \n",
       "100866  Secondary School          NaN  2015            54       57.4   \n",
       "100867  Secondary School          NaN  2015            31          s   \n",
       "138300  Secondary School          NaN  2015            54       57.3   \n",
       "138301  Secondary School          NaN  2015            36       53.2   \n",
       "209785  Secondary School          NaN  2015            12         59   \n",
       "209786  Secondary School          NaN  2015            78       55.1   \n",
       "\n",
       "       Number Scoring Below 65 Percent Scoring Below 65  \\\n",
       "18654                       61                     67.8   \n",
       "52756                       55                     67.9   \n",
       "52757                        6                     66.7   \n",
       "100865                       s                        s   \n",
       "100866                      34                       63   \n",
       "100867                       s                        s   \n",
       "138300                      34                       63   \n",
       "138301                      27                       75   \n",
       "209785                       9                       75   \n",
       "209786                      52                     66.7   \n",
       "\n",
       "       Number Scoring 65 or Above Percent Scoring 65 or Above  \\\n",
       "18654                          29                        32.2   \n",
       "52756                          26                        32.1   \n",
       "52757                           3                        33.3   \n",
       "100865                          s                           s   \n",
       "100866                         20                          37   \n",
       "100867                          s                           s   \n",
       "138300                         20                          37   \n",
       "138301                          9                          25   \n",
       "209785                          3                          25   \n",
       "209786                         26                        33.3   \n",
       "\n",
       "       Number Scoring 80 or Above Percent Scoring 80 or Above  \\\n",
       "18654                           6                         6.7   \n",
       "52756                           5                         6.2   \n",
       "52757                           1                        11.1   \n",
       "100865                          s                           s   \n",
       "100866                          6                        11.1   \n",
       "100867                          s                           s   \n",
       "138300                          5                         9.3   \n",
       "138301                          1                         2.8   \n",
       "209785                          1                         8.3   \n",
       "209786                          5                         6.4   \n",
       "\n",
       "       Number Scoring CR Percent Scoring CR  \n",
       "18654                  0                  0  \n",
       "52756                  0                  0  \n",
       "52757                  0                  0  \n",
       "100865                na                 na  \n",
       "100866                 0                  0  \n",
       "100867                na                 na  \n",
       "138300                 0                  0  \n",
       "138301                 0                  0  \n",
       "209785                 0                  0  \n",
       "209786                 0                  0  "
      ]
     },
     "execution_count": 10,
     "metadata": {},
     "output_type": "execute_result"
    }
   ],
   "source": [
    "#Finding the exact 10 rows from the Regents Exam column that have NaN values\n",
    "df[df['Regents Exam'].isnull()]"
   ]
  },
  {
   "cell_type": "code",
   "execution_count": 11,
   "id": "07eb9a7e-ad17-4bc0-ab63-7be9706f7b8c",
   "metadata": {},
   "outputs": [
    {
     "data": {
      "text/plain": [
       "(210, 15)"
      ]
     },
     "execution_count": 11,
     "metadata": {},
     "output_type": "execute_result"
    }
   ],
   "source": [
    "#.shape helps quickly check the size of the dataset with (rows,columns)\n",
    "inwood_academy = df[df['School Name'] == 'Inwood Academy for Leadership Charter School']\n",
    "inwood_academy.shape"
   ]
  },
  {
   "cell_type": "code",
   "execution_count": 12,
   "id": "c010d16d-19a4-4007-ac3d-ddbd08bade78",
   "metadata": {},
   "outputs": [
    {
     "name": "stdout",
     "output_type": "stream",
     "text": [
      "School DBN                     0.000000\n",
      "School Name                    0.000000\n",
      "School Level                   0.000000\n",
      "Regents Exam                   4.761905\n",
      "Year                           0.000000\n",
      "Total Tested                   0.000000\n",
      "Mean Score                     0.000000\n",
      "Number Scoring Below 65        0.000000\n",
      "Percent Scoring Below 65       0.000000\n",
      "Number Scoring 65 or Above     0.000000\n",
      "Percent Scoring 65 or Above    0.000000\n",
      "Number Scoring 80 or Above     0.000000\n",
      "Percent Scoring 80 or Above    0.000000\n",
      "Number Scoring CR              0.000000\n",
      "Percent Scoring CR             0.000000\n",
      "dtype: float64\n"
     ]
    }
   ],
   "source": [
    "# * 100 Converts the proportion into a percentage\n",
    "nan_percentage = inwood_academy.isnull().mean() * 100\n",
    "print(nan_percentage)"
   ]
  },
  {
   "cell_type": "code",
   "execution_count": 13,
   "id": "ced43117-1ffa-4128-8e87-6d376e56a857",
   "metadata": {},
   "outputs": [],
   "source": [
    "# Drops any rows (in this case 10 rows) from the DataFrame where the value in the 'Regents Exam' column is missing (NaN)\n",
    "# The subset argument in dropna() specifies which columns to check for missing values when dropping rows.\n",
    "drp_na = df.dropna(subset=['Regents Exam'])"
   ]
  },
  {
   "cell_type": "code",
   "execution_count": 14,
   "id": "ec5860f5-b532-4aab-b341-c91d5a8e171d",
   "metadata": {},
   "outputs": [
    {
     "data": {
      "text/plain": [
       "School DBN                     0\n",
       "School Name                    0\n",
       "School Level                   0\n",
       "Regents Exam                   0\n",
       "Year                           0\n",
       "Total Tested                   0\n",
       "Mean Score                     0\n",
       "Number Scoring Below 65        0\n",
       "Percent Scoring Below 65       0\n",
       "Number Scoring 65 or Above     0\n",
       "Percent Scoring 65 or Above    0\n",
       "Number Scoring 80 or Above     0\n",
       "Percent Scoring 80 or Above    0\n",
       "Number Scoring CR              0\n",
       "Percent Scoring CR             0\n",
       "dtype: int64"
      ]
     },
     "execution_count": 14,
     "metadata": {},
     "output_type": "execute_result"
    }
   ],
   "source": [
    "drp_na.isnull().sum()"
   ]
  },
  {
   "cell_type": "code",
   "execution_count": 15,
   "id": "62785d7e-db75-4d76-8a85-09f987635121",
   "metadata": {
    "scrolled": true
   },
   "outputs": [
    {
     "data": {
      "text/plain": [
       "['Common Core Algebra',\n",
       " 'Living Environment',\n",
       " 'Common Core English',\n",
       " 'Algebra2/Trigonometry',\n",
       " 'Common Core Algebra2',\n",
       " 'Common Core Geometry',\n",
       " 'English',\n",
       " 'Geometry',\n",
       " 'Global History and Geography',\n",
       " 'Integrated Algebra',\n",
       " 'Physical Settings/Chemistry',\n",
       " 'Physical Settings/Earth Science',\n",
       " 'U.S. History and Government',\n",
       " 'Physical Settings/Physics']"
      ]
     },
     "execution_count": 15,
     "metadata": {},
     "output_type": "execute_result"
    }
   ],
   "source": [
    "# This is a list of the 14 unique Regent Exams\n",
    "list(drp_na['Regents Exam'].unique())"
   ]
  },
  {
   "cell_type": "code",
   "execution_count": 16,
   "id": "1f1b9758-829b-4625-9017-7796a4a147f9",
   "metadata": {},
   "outputs": [],
   "source": [
    "# This counts the number of times each unique value (type of exam) appears in the 'Regents Exam' column \n",
    "value_counts = drp_na['Regents Exam'].value_counts()"
   ]
  },
  {
   "cell_type": "code",
   "execution_count": 17,
   "id": "be57ffa4-014d-41a0-9462-7d4458ab2200",
   "metadata": {},
   "outputs": [
    {
     "data": {
      "text/plain": [
       "Regents Exam\n",
       "Common Core Algebra                29254\n",
       "Living Environment                 25539\n",
       "U.S. History and Government        20426\n",
       "Common Core English                19878\n",
       "Global History and Geography       19192\n",
       "Physical Settings/Earth Science    15971\n",
       "Common Core Geometry               15267\n",
       "Physical Settings/Chemistry        11670\n",
       "English                            11091\n",
       "Integrated Algebra                 11022\n",
       "Algebra2/Trigonometry              10788\n",
       "Geometry                            8509\n",
       "Common Core Algebra2                7915\n",
       "Physical Settings/Physics           5799\n",
       "Name: count, dtype: int64"
      ]
     },
     "execution_count": 17,
     "metadata": {},
     "output_type": "execute_result"
    }
   ],
   "source": [
    "value_counts"
   ]
  },
  {
   "cell_type": "code",
   "execution_count": 18,
   "id": "f4f953de-56ec-4d81-aaf4-1747b3718238",
   "metadata": {},
   "outputs": [
    {
     "data": {
      "text/plain": [
       "212321"
      ]
     },
     "execution_count": 18,
     "metadata": {},
     "output_type": "execute_result"
    }
   ],
   "source": [
    "value_counts.sum()"
   ]
  },
  {
   "cell_type": "code",
   "execution_count": 19,
   "id": "cb47309d-b08b-44e6-8259-055d2e3a4d1f",
   "metadata": {},
   "outputs": [],
   "source": [
    "# This groups math-related, science-related, and humanities-related exams into separate lists\n",
    "math_exams = [\n",
    "    'Common Core Algebra',\n",
    "    'Common Core Algebra2',\n",
    "    'Algebra2/Trigonometry',\n",
    "    'Common Core Geometry',\n",
    "    'Geometry',\n",
    "    'Integrated Algebra']\n",
    "\n",
    "\n",
    "science_exams = [\n",
    "    'Living Environment',\n",
    "    'Physical Settings/Chemistry',\n",
    "    'Physical Settings/Earth Science',\n",
    "    'Physical Settings/Physics']\n",
    "\n",
    "humanities_exams = [\n",
    "    'Common Core English',\n",
    "    'English',\n",
    "    'Global History and Geography',\n",
    "    'U.S. History and Government']"
   ]
  },
  {
   "cell_type": "code",
   "execution_count": 20,
   "id": "57d0a584-f6e7-4ecd-96f9-fe6d95062c6f",
   "metadata": {},
   "outputs": [
    {
     "data": {
      "image/png": "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",
      "text/plain": [
       "<Figure size 1200x500 with 1 Axes>"
      ]
     },
     "metadata": {},
     "output_type": "display_data"
    }
   ],
   "source": [
    "# value_counts.index contains the unique values from the Regents Exam column\n",
    "# y=value_counts.values contains the count of occurrences for each unique exam\n",
    "\n",
    "plt.figure(figsize=(12, 5))\n",
    "sns.barplot(x=value_counts.index, y=value_counts.values) \n",
    "\n",
    "# ha aligns the text to the right of the tick mark instead of the default center alignment.\n",
    "plt.xticks(rotation=45, ha='right')\n",
    "plt.xlabel(\"\")\n",
    "plt.ylabel(\"Total Count Per Exam\")\n",
    "plt.title(\"Regents Exams\")\n",
    "plt.show()"
   ]
  },
  {
   "cell_type": "code",
   "execution_count": 21,
   "id": "f0eb046f-d4dd-4b69-92a6-4894ab7d14eb",
   "metadata": {},
   "outputs": [
    {
     "data": {
      "text/plain": [
       "['Common Core Algebra',\n",
       " 'Common Core Algebra2',\n",
       " 'Algebra2/Trigonometry',\n",
       " 'Common Core Geometry',\n",
       " 'Geometry',\n",
       " 'Integrated Algebra',\n",
       " 'Living Environment',\n",
       " 'Physical Settings/Chemistry',\n",
       " 'Physical Settings/Earth Science',\n",
       " 'Physical Settings/Physics',\n",
       " 'Common Core English',\n",
       " 'English',\n",
       " 'Global History and Geography',\n",
       " 'U.S. History and Government']"
      ]
     },
     "execution_count": 21,
     "metadata": {},
     "output_type": "execute_result"
    }
   ],
   "source": [
    "# Combining the three separate disciplines\n",
    "combined_exams = math_exams + science_exams + humanities_exams\n",
    "list(combined_exams)"
   ]
  },
  {
   "cell_type": "code",
   "execution_count": 22,
   "id": "4a2a3aa8-4f53-47bb-baf6-4198f8425821",
   "metadata": {},
   "outputs": [
    {
     "name": "stdout",
     "output_type": "stream",
     "text": [
      "212321\n"
     ]
    }
   ],
   "source": [
    "math_count = value_counts[math_exams].sum()  # Sum of math exam counts\n",
    "science_count = value_counts[science_exams].sum()  # Sum of science exam counts\n",
    "humanities_count = value_counts[humanities_exams].sum()  # Sum of humanities exam counts\n",
    "\n",
    "total_count = math_count + science_count + humanities_count\n",
    "\n",
    "print(total_count)"
   ]
  },
  {
   "cell_type": "code",
   "execution_count": 23,
   "id": "7ce5ef6d-25c4-4469-a46e-52294eb9d11e",
   "metadata": {},
   "outputs": [
    {
     "name": "stdout",
     "output_type": "stream",
     "text": [
      "Math Exams: 82755\n",
      "Science Exams: 58979\n",
      "Humanities Exams: 70587\n"
     ]
    }
   ],
   "source": [
    "print(\"Math Exams:\", math_count)\n",
    "print(\"Science Exams:\", science_count)\n",
    "print(\"Humanities Exams:\", humanities_count)"
   ]
  },
  {
   "cell_type": "code",
   "execution_count": 24,
   "id": "13e707d0-46d5-4348-a30d-e913b269ed96",
   "metadata": {},
   "outputs": [
    {
     "data": {
      "image/png": "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",
      "text/plain": [
       "<Figure size 400x700 with 1 Axes>"
      ]
     },
     "metadata": {},
     "output_type": "display_data"
    }
   ],
   "source": [
    "\n",
    "categories = ['Math', 'Humanities', 'Science']\n",
    "counts = [math_count, humanities_count, science_count]\n",
    "\n",
    "plt.figure(figsize=(4, 7))\n",
    "plt.bar(categories, counts, color=['tab:blue', 'tab:green', 'tab:orange'])\n",
    "\n",
    "\n",
    "plt.xlabel(\"\")\n",
    "plt.ylabel(\"\")\n",
    "plt.title(\"Total Number of Exams by Discipline\")\n",
    "\n",
    "\n",
    "plt.show()"
   ]
  },
  {
   "cell_type": "code",
   "execution_count": null,
   "id": "3f3d9387-bcbb-4102-b494-fd44e1f5f4c4",
   "metadata": {},
   "outputs": [],
   "source": []
  },
  {
   "cell_type": "code",
   "execution_count": 25,
   "id": "dbbc9cb9-3d04-4595-a2bd-a72f7f23f3d4",
   "metadata": {},
   "outputs": [],
   "source": [
    "# Now we are moving on to the 'Mean Score' column"
   ]
  },
  {
   "cell_type": "code",
   "execution_count": 26,
   "id": "61d3bc07-4bee-420e-95a8-062d1b76f069",
   "metadata": {},
   "outputs": [
    {
     "name": "stdout",
     "output_type": "stream",
     "text": [
      "0            s\n",
      "1         77.9\n",
      "2           74\n",
      "3            s\n",
      "4            s\n",
      "          ... \n",
      "212326       s\n",
      "212327       s\n",
      "212328       s\n",
      "212329       s\n",
      "212330       s\n",
      "Name: Mean Score, Length: 212321, dtype: object\n"
     ]
    }
   ],
   "source": [
    "total_rows_mean_score = drp_na['Mean Score']\n",
    "print(total_rows_mean_score)"
   ]
  },
  {
   "cell_type": "code",
   "execution_count": 27,
   "id": "03716ccb-6531-4f69-af19-19c83071926b",
   "metadata": {},
   "outputs": [
    {
     "name": "stdout",
     "output_type": "stream",
     "text": [
      "137101\n",
      "212321\n"
     ]
    }
   ],
   "source": [
    "# shape[0] extracts only the number of rows\n",
    "# shape[1] would give the number of columns instead.\n",
    "# The != operator is a \"not equal to\" comparison. This checks whether the value is not equal to the string 's'.\n",
    "rows_wo_s = drp_na[drp_na['Mean Score'] != 's'].shape[0]\n",
    "print(rows_wo_s)\n",
    "print(total_count)"
   ]
  },
  {
   "cell_type": "code",
   "execution_count": 28,
   "id": "ed26811a-b2db-4cab-b9fb-2d8f8c460224",
   "metadata": {},
   "outputs": [
    {
     "name": "stdout",
     "output_type": "stream",
     "text": [
      "-75220\n"
     ]
    }
   ],
   "source": [
    "print((rows_wo_s)-(total_count))"
   ]
  },
  {
   "cell_type": "code",
   "execution_count": 29,
   "id": "a7208b79-c53d-4550-97e4-50e76b4fe059",
   "metadata": {},
   "outputs": [
    {
     "name": "stdout",
     "output_type": "stream",
     "text": [
      "35.42748950880977\n"
     ]
    }
   ],
   "source": [
    "rows_with_s_count = total_count - rows_wo_s\n",
    "percentage_removed = (rows_with_s_count / total_count) * 100\n",
    "print(percentage_removed)"
   ]
  },
  {
   "cell_type": "code",
   "execution_count": 30,
   "id": "7cffe6c5-112f-49d5-b582-b1b9f01745f8",
   "metadata": {},
   "outputs": [],
   "source": [
    "# Remove rows where 'Mean Score' is 's'\n",
    "# Using .copy() ensures that rows_wo_s is a separate, independent DataFrame,\n",
    "# sometimes when Pandas is unsure whether you're modifying the original DataFrame (drp_na or df) or just the filtered part.\n",
    "\n",
    "rows_wo_s = drp_na[drp_na['Mean Score'] != 's'].copy()  \n",
    "\n",
    "# Convert 'Mean Score' column to numeric\n",
    "# pd.to_numeric(...): Converts values to numbers.\n",
    "# errors='coerce': Replaces any non-numeric values (like strings) with NaN instead of throwing an error.\n",
    "rows_wo_s['Mean Score'] = pd.to_numeric(rows_wo_s['Mean Score'], errors='coerce')\n",
    "\n",
    "# Calculate mean scores for each discipline\n",
    "math_mean = rows_wo_s[rows_wo_s['Regents Exam'].isin(math_exams)]['Mean Score'].mean()\n",
    "science_mean = rows_wo_s[rows_wo_s['Regents Exam'].isin(science_exams)]['Mean Score'].mean()\n",
    "humanities_mean = rows_wo_s[rows_wo_s['Regents Exam'].isin(humanities_exams)]['Mean Score'].mean()\n"
   ]
  },
  {
   "cell_type": "code",
   "execution_count": 31,
   "id": "c72f10c1-15ad-4046-b3ae-0f1371a481f2",
   "metadata": {},
   "outputs": [
    {
     "data": {
      "image/png": "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",
      "text/plain": [
       "<Figure size 1300x500 with 1 Axes>"
      ]
     },
     "metadata": {},
     "output_type": "display_data"
    }
   ],
   "source": [
    "#Remove 's' values and convert 'Mean Score' to float\n",
    "fd = drp_na[drp_na['Mean Score'] != 's'].copy()\n",
    "fd['Mean Score'] = fd['Mean Score'].astype(float)\n",
    "\n",
    "# Step 2: Get the list of all exams\n",
    "combined_exams = math_exams + science_exams + humanities_exams\n",
    "\n",
    "# Step 3: Compute mean scores for each exam in combined_exams\n",
    "exam_mean_scores = {\n",
    "    exam: fd[fd['Regents Exam'] == exam]['Mean Score'].mean()\n",
    "    for exam in combined_exams\n",
    "}\n",
    "\n",
    "plt.figure(figsize=(13, 5))\n",
    "plt.bar(exam_mean_scores.keys(), exam_mean_scores.values(), color='tab:blue')\n",
    "\n",
    "plt.xticks(rotation=45, ha='right')\n",
    "plt.xlabel(\"\")\n",
    "plt.ylabel(\"Mean Score\")\n",
    "plt.title(\"Mean Scores for Each Exam\")\n",
    "\n",
    "# Show the plot\n",
    "plt.show()"
   ]
  },
  {
   "cell_type": "code",
   "execution_count": 32,
   "id": "13de9377-a9ff-4aae-947f-725d730f2ea1",
   "metadata": {},
   "outputs": [
    {
     "name": "stdout",
     "output_type": "stream",
     "text": [
      "0\n",
      "0\n",
      "0\n"
     ]
    }
   ],
   "source": [
    "# Check for NaN in Math exams\n",
    "math_nan_count = rows_wo_s[rows_wo_s['Regents Exam'].isin(math_exams)]['Mean Score'].isna().sum()\n",
    "\n",
    "# Check for NaN in Science exams\n",
    "science_nan_count = rows_wo_s[rows_wo_s['Regents Exam'].isin(science_exams)]['Mean Score'].isna().sum()\n",
    "\n",
    "# Check for NaN in Humanities exams\n",
    "humanities_nan_count = rows_wo_s[rows_wo_s['Regents Exam'].isin(humanities_exams)]['Mean Score'].isna().sum()\n",
    "print(math_nan_count)\n",
    "print(science_nan_count)\n",
    "print(humanities_nan_count)"
   ]
  },
  {
   "cell_type": "code",
   "execution_count": 33,
   "id": "87a62ef5-0594-4c49-97e4-1d0fb7c7b59c",
   "metadata": {},
   "outputs": [
    {
     "name": "stdout",
     "output_type": "stream",
     "text": [
      "   Discipline  Mean Score\n",
      "0  Humanities   68.113154\n",
      "1     Science   66.527381\n",
      "2        Math   63.479972\n"
     ]
    }
   ],
   "source": [
    "# Create a DataFrame to display the mean scores  \n",
    "mean_scores_table = pd.DataFrame({  \n",
    "    \"Discipline\": [\"Humanities\", \"Science\", \"Math\"],  \n",
    "    \"Mean Score\": [humanities_mean, science_mean, math_mean]})  \n",
    "print(mean_scores_table)  "
   ]
  },
  {
   "cell_type": "code",
   "execution_count": 34,
   "id": "e37b1536-fe68-4f06-969a-1ccc174f117e",
   "metadata": {},
   "outputs": [
    {
     "data": {
      "image/png": "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",
      "text/plain": [
       "<Figure size 500x700 with 1 Axes>"
      ]
     },
     "metadata": {},
     "output_type": "display_data"
    }
   ],
   "source": [
    "plt.figure(figsize=(5, 7))  \n",
    "plt.bar(mean_scores_table[\"Discipline\"], mean_scores_table[\"Mean Score\"], color=['tab:green', 'tab:orange', 'tab:blue'])  \n",
    "plt.xlabel(\"\")  \n",
    "plt.ylabel(\"\")  \n",
    "plt.title(\"All Schools Mean Scores by Discipline\")  \n",
    "\n",
    "#enumerate(mean_scores) gives both the index (x-position) and the value (bar height) \n",
    "\n",
    "for index, value in enumerate(mean_scores_table[\"Mean Score\"]):\n",
    "    \n",
    "    #An f-string is a way to embed expressions inside string, using curly braces {}\n",
    "    #:.2f tells Python to format value as a floating-point number with 2 decimal places.\n",
    "    \n",
    "    plt.text(index, value + -3.5,  f\"{value:.2f}\", ha=\"center\", fontsize=20, fontweight=\"bold\")  \n",
    "\n",
    "plt.show()  "
   ]
  },
  {
   "cell_type": "code",
   "execution_count": null,
   "id": "fda421af-f739-4cdd-a0c0-b81490685a57",
   "metadata": {},
   "outputs": [],
   "source": []
  },
  {
   "cell_type": "code",
   "execution_count": 35,
   "id": "d66722ed-1b2f-4697-b3f4-6ab7f3b6181d",
   "metadata": {},
   "outputs": [
    {
     "name": "stdout",
     "output_type": "stream",
     "text": [
      "['M' 'X' 'K' 'Q' 'R']\n"
     ]
    }
   ],
   "source": [
    "# .str[2] is used to extract the third character from the column\n",
    "boro_keys = fd['School DBN'].str[2].unique()\n",
    "\n",
    "print(boro_keys)"
   ]
  },
  {
   "cell_type": "code",
   "execution_count": 36,
   "id": "ff3d54e2-da28-451a-acd5-9e9a1459feae",
   "metadata": {},
   "outputs": [],
   "source": [
    "fd['Borough'] = fd['School DBN'].str[2].map({\n",
    "    'M': 'Manhattan',\n",
    "    'K': 'Brooklyn',\n",
    "    'Q': 'Queens',\n",
    "    'X': 'Bronx',\n",
    "    'R': 'Staten Island'})"
   ]
  },
  {
   "cell_type": "code",
   "execution_count": 37,
   "id": "e0adf0d0-35bc-4e65-97f0-988cd095df3b",
   "metadata": {},
   "outputs": [
    {
     "name": "stdout",
     "output_type": "stream",
     "text": [
      "<class 'pandas.core.frame.DataFrame'>\n",
      "Index: 137101 entries, 1 to 212325\n",
      "Data columns (total 3 columns):\n",
      " #   Column        Non-Null Count   Dtype \n",
      "---  ------        --------------   ----- \n",
      " 0   Regents Exam  137101 non-null  object\n",
      " 1   Discipline    137101 non-null  object\n",
      " 2   Borough       137101 non-null  object\n",
      "dtypes: object(3)\n",
      "memory usage: 4.2+ MB\n",
      "None\n",
      "                           Regents Exam  Discipline        Borough\n",
      "210478              Common Core Algebra        Math         Queens\n",
      "135154      Physical Settings/Chemistry     Science  Staten Island\n",
      "184351        Physical Settings/Physics     Science       Brooklyn\n",
      "104245                         Geometry        Math      Manhattan\n",
      "53199   Physical Settings/Earth Science     Science         Queens\n",
      "104259  Physical Settings/Earth Science     Science      Manhattan\n",
      "10930              Common Core Geometry        Math       Brooklyn\n",
      "90370               Common Core English  Humanities         Queens\n",
      "141134              Common Core English  Humanities      Manhattan\n",
      "201849             Common Core Algebra2        Math         Queens\n"
     ]
    }
   ],
   "source": [
    "discipline_dict = {   \n",
    "    'Common Core Algebra': 'Math', \n",
    "    'Common Core Algebra2': 'Math', \n",
    "    'Algebra2/Trigonometry': 'Math',\n",
    "    'Common Core Geometry': 'Math', \n",
    "    'Geometry': 'Math', \n",
    "    'Integrated Algebra': 'Math',\n",
    "    \n",
    "    'Living Environment': 'Science', \n",
    "    'Physical Settings/Chemistry': 'Science', \n",
    "    'Physical Settings/Earth Science': 'Science', \n",
    "    'Physical Settings/Physics': 'Science',\n",
    "    \n",
    "    'Common Core English': 'Humanities', \n",
    "    'English': 'Humanities', \n",
    "    'Global History and Geography': 'Humanities', \n",
    "    'U.S. History and Government': 'Humanities'}\n",
    "\n",
    "# .map applies discipline_dict to each exam\n",
    "fd['Discipline'] = fd['Regents Exam'].map(discipline_dict)\n",
    "\n",
    "# Check the column info to verify 'Discipline' was created and to check data types\n",
    "print(fd[['Regents Exam', 'Discipline', 'Borough']].info())\n",
    "\n",
    "# Show a random sample of 10 rows including 'Regents Exam', 'Discipline', and 'Borough'\n",
    "print(fd[['Regents Exam', 'Discipline', 'Borough']].sample(10))"
   ]
  },
  {
   "cell_type": "code",
   "execution_count": 38,
   "id": "cd2cd168-c41f-49a7-b60f-440c08d628dc",
   "metadata": {},
   "outputs": [
    {
     "name": "stdout",
     "output_type": "stream",
     "text": [
      "      Borough Discipline                                       School Name  Mean Score\n",
      "        Bronx Humanities High School of American Studies at Lehman College        98.7\n",
      "        Bronx       Math                      Bronx High School of Science        96.6\n",
      "        Bronx    Science High School of American Studies at Lehman College        95.2\n",
      "     Brooklyn Humanities                        Brooklyn Latin School, The        96.8\n",
      "     Brooklyn       Math                               I.S. 98 Bay Academy        94.6\n",
      "     Brooklyn    Science                               I.S. 98 Bay Academy        95.2\n",
      "    Manhattan Humanities                     Central Park East High School        98.3\n",
      "    Manhattan       Math                               The Anderson School        95.9\n",
      "    Manhattan    Science                               The Anderson School        96.8\n",
      "       Queens Humanities                       Townsend Harris High School        97.6\n",
      "       Queens       Math                       Townsend Harris High School        95.2\n",
      "       Queens    Science                         J.H.S. 185 Edward Bleeker        96.8\n",
      "Staten Island Humanities                          I.S. 007 Elias Bernstein        97.0\n",
      "Staten Island       Math               Staten Island Technical High School        93.3\n",
      "Staten Island    Science                          I.S. 007 Elias Bernstein        94.7\n"
     ]
    }
   ],
   "source": [
    "# Group by 'Borough' and 'Discipline' and find the top score using idxmax\n",
    "# With .loc[], we retrieve the actual rows of the DataFrame\n",
    "\n",
    "top_school_boro = fd.loc[fd.groupby(['Borough', 'Discipline'])['Mean Score'].idxmax()]\n",
    "\n",
    "# Using .to_string(index=False) ensures the table displays without the default index column.\n",
    "print(top_school_boro[['Borough', 'Discipline', 'School Name', 'Mean Score']].to_string(index=False))"
   ]
  },
  {
   "cell_type": "code",
   "execution_count": 39,
   "id": "b2dec0d5-b4f9-497e-a9d4-47ad2172d6de",
   "metadata": {},
   "outputs": [
    {
     "name": "stdout",
     "output_type": "stream",
     "text": [
      "Max Mean Score: 98.7\n",
      "Min Mean Score: 93.3\n",
      "Difference (Range): 5.400000000000006\n"
     ]
    }
   ],
   "source": [
    "max_score = top_school_boro['Mean Score'].max()\n",
    "min_score = top_school_boro['Mean Score'].min()\n",
    "score_difference = max_score - min_score\n",
    "\n",
    "print(f\"Max Mean Score: {max_score}\")\n",
    "print(f\"Min Mean Score: {min_score}\")\n",
    "print(f\"Difference (Range): {score_difference}\")"
   ]
  },
  {
   "cell_type": "code",
   "execution_count": 40,
   "id": "7e0263dc-cf92-4a33-b07b-fceb632539d6",
   "metadata": {},
   "outputs": [
    {
     "name": "stdout",
     "output_type": "stream",
     "text": [
      "      Borough Discipline                                        School Name  Mean Score\n",
      "        Bronx Humanities                       DreamYard Preparatory School        16.1\n",
      "        Bronx       Math                  West Bronx Academy for the Future        24.7\n",
      "        Bronx    Science                          Bronx Bridges High School        21.6\n",
      "     Brooklyn Humanities        Brooklyn High School for Law and Technology        15.0\n",
      "     Brooklyn       Math        Life Academy High School for Film and Music        19.1\n",
      "     Brooklyn    Science Transit Tech Career and Technical Education High S        20.8\n",
      "    Manhattan Humanities                         Orchard Collegiate Academy        30.3\n",
      "    Manhattan       Math        Hudson High School of Learning Technologies        24.9\n",
      "    Manhattan    Science                          Academy for Social Action        27.1\n",
      "       Queens Humanities          Frederick Douglass Academy VI High School        26.5\n",
      "       Queens       Math                         Renaissance Charter School        24.3\n",
      "       Queens    Science  Queens High School for Information, Research, and        29.8\n",
      "Staten Island Humanities                        Susan E. Wagner High School        29.3\n",
      "Staten Island       Math Ralph R. McKee Career and Technical Education High        33.7\n",
      "Staten Island    Science                        Susan E. Wagner High School        39.9\n"
     ]
    }
   ],
   "source": [
    "# Step 1: Group by 'Borough' and 'Discipline' and find the bottom scores using idxmin\n",
    "bottom_school_boro = fd.loc[fd.groupby(['Borough', 'Discipline'])['Mean Score'].idxmin()]\n",
    "\n",
    "# Using .to_string(index=False) ensures the table displays without the default index column.\n",
    "print(bottom_school_boro[['Borough', 'Discipline', 'School Name', 'Mean Score']].to_string(index=False))"
   ]
  },
  {
   "cell_type": "code",
   "execution_count": 41,
   "id": "9559f76f-29dc-4d70-94e8-bfc268f567ee",
   "metadata": {},
   "outputs": [
    {
     "name": "stdout",
     "output_type": "stream",
     "text": [
      "Max Mean Score: 39.9\n",
      "Min Mean Score: 15.0\n",
      "Difference (Range): 24.9\n"
     ]
    }
   ],
   "source": [
    "max_score = bottom_school_boro['Mean Score'].max()\n",
    "min_score = bottom_school_boro['Mean Score'].min()\n",
    "score_difference = max_score - min_score\n",
    "\n",
    "print(f\"Max Mean Score: {max_score}\")\n",
    "print(f\"Min Mean Score: {min_score}\")\n",
    "print(f\"Difference (Range): {score_difference}\")"
   ]
  },
  {
   "cell_type": "code",
   "execution_count": 42,
   "id": "328b13d4-fd9b-4e60-a005-12116bbd0665",
   "metadata": {},
   "outputs": [
    {
     "data": {
      "image/png": "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",
      "text/plain": [
       "<Figure size 1200x800 with 2 Axes>"
      ]
     },
     "metadata": {},
     "output_type": "display_data"
    }
   ],
   "source": [
    "plt.figure(figsize=(12, 8),facecolor=\"#e6e6e6\")\n",
    "\n",
    "# Created a subplot with two sections: one for top schools and one for bottom schools\n",
    "# The alpha parameter in controls the transparency of elements such as plot markers, bars, lines etc\n",
    "\n",
    "plt.subplot(1, 2, 1,facecolor=\"#e6e6e6\")\n",
    "plt.grid(color='grey', linestyle='--', linewidth=0.5, alpha=0.7)\n",
    "\n",
    "# The width parameter in matplotlib controls the width of bars in a bar plot\n",
    "\n",
    "sns.barplot(data=top_school_boro, x=\"Borough\", y=\"Mean Score\", hue=\"Discipline\", legend=False, width=.7)\n",
    "plt.title('Top Schools Scores by Discipline')\n",
    "plt.ylabel('Exam Score')\n",
    "plt.xlabel('')\n",
    "plt.xticks(rotation=45)\n",
    "\n",
    "\n",
    "plt.subplot(1, 2, 2,facecolor=\"#e6e6e6\")\n",
    "plt.grid(color='grey', linestyle='--', linewidth=0.5, alpha=0.7)\n",
    "\n",
    "\n",
    "# Plot for bottom schools\n",
    "\n",
    "sns.barplot(data=bottom_school_boro, x=\"Borough\", y=\"Mean Score\", hue=\"Discipline\", width=.7)\n",
    "plt.title('Bottom School Scores by Discipline')\n",
    "plt.ylabel('')\n",
    "plt.xlabel('')\n",
    "plt.xticks(rotation=45)\n",
    "\n",
    "# Move the legend for bottom schools outside the plot\n",
    "# ncol=3 Creates three columns for the legend items\n",
    "plt.legend(title=\"Discipline\", loc=\"upper center\", bbox_to_anchor=(-0.28, -0.15), ncol=3)\n",
    "\n",
    "# wspace is the distance between subplots\n",
    "plt.subplots_adjust(wspace=0.5)\n",
    "\n",
    "plt.show()"
   ]
  },
  {
   "cell_type": "code",
   "execution_count": null,
   "id": "f0ecd987-a3dc-44aa-a10a-355875e66ac3",
   "metadata": {},
   "outputs": [],
   "source": []
  },
  {
   "cell_type": "code",
   "execution_count": null,
   "id": "9e42d92b-70ba-434c-b6a6-b01628d9c661",
   "metadata": {},
   "outputs": [],
   "source": []
  }
 ],
 "metadata": {
  "kernelspec": {
   "display_name": "Python [conda env:base] *",
   "language": "python",
   "name": "conda-base-py"
  },
  "language_info": {
   "codemirror_mode": {
    "name": "ipython",
    "version": 3
   },
   "file_extension": ".py",
   "mimetype": "text/x-python",
   "name": "python",
   "nbconvert_exporter": "python",
   "pygments_lexer": "ipython3",
   "version": "3.12.7"
  }
 },
 "nbformat": 4,
 "nbformat_minor": 5
}
 A Summation of the Data Presented

The range of scores for bottom-performing schools (24.9) is quite large, indicating a significant variance in performance within this group.
The lowest score (15.0) suggests that some schools are performing very poorly, which could be a result of under-resourcing, 
challenges in teaching quality, or socio-economic disparities in those areas.
The highest score (39.9), while much higher than the lowest score, still indicates that the bottom schools are far from meeting the standards
of the top performers. This wide range suggests that the bottom schools could benefit from targeted interventions to raise the performance 
of the lower end, possibly through additional resources, curriculum adjustments, and support programs for students and teachers.

Math scores across the dataset are lower compared to Humanities and Science.
Having more exams means more opportunities for lower scores. A school might perform well in 4 exams,
but with 6 exams, there’s a greater chance for variability in performance (both higher and lower scores).
With more exams, struggling students have more chances to score poorly, 
which could explain why Math scores are lower on average compared to other disciplines.

For Humanities and Science it's important to Ensure that the quality of instruction and curriculum remains strong, as fewer exams can sometimes
lead to a false sense of security if students aren’t exposed to enough assessment to truly gauge their mastery of the material.
